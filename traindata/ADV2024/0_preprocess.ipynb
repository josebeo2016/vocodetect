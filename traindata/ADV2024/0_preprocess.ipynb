{
 "cells": [
  {
   "cell_type": "code",
   "execution_count": 1,
   "metadata": {},
   "outputs": [],
   "source": [
    "import torch\n",
    "import torchvision.transforms as tvt\n",
    "from torch.utils.data import DataLoader\n",
    "from tqdm import tqdm\n",
    "import shutil\n",
    "import pandas as pd\n",
    "import numpy as np\n",
    "import os\n",
    "torch.manual_seed(1234)\n",
    "from evaluate_metrics import compute_eer\n",
    "import matplotlib.pyplot as plt\n",
    "from sklearn.metrics import confusion_matrix, ConfusionMatrixDisplay"
   ]
  },
  {
   "cell_type": "markdown",
   "metadata": {},
   "source": [
    "## Preprocess"
   ]
  },
  {
   "cell_type": "code",
   "execution_count": 2,
   "metadata": {},
   "outputs": [
    {
     "data": {
      "text/plain": [
       "<bound method NDFrame.head of                                                      utt subset     label  \\\n",
       "0      Dataset/ASVspoof/LA/ASVspoof2021_DF_eval/flac/...   eval     spoof   \n",
       "1      Dataset/ASVspoof/LA/ASVspoof2021_DF_eval/flac/...   eval  bonafide   \n",
       "2      Dataset/ASVspoof/LA/ASVspoof2021_DF_eval/flac/...   eval     spoof   \n",
       "3      Dataset/ASVspoof/LA/ASVspoof2021_DF_eval/flac/...   eval  bonafide   \n",
       "4      Dataset/maibui/random_masking_piotrakawa/ASVSp...   eval     spoof   \n",
       "...                                                  ...    ...       ...   \n",
       "67846  Dataset/ASVspoof/LA/ASVspoof2021_DF_eval/flac/...   eval     spoof   \n",
       "67847  Dataset/ASVspoof/LA/ASVspoof2021_DF_eval/flac/...   eval  bonafide   \n",
       "67848  Dataset/maibui/random_masking_piotrakawa/ASVSp...   eval     spoof   \n",
       "67849  Dataset/maibui/random_masking_piotrakawa/ASVSp...   eval     spoof   \n",
       "67850  Dataset/ASVspoof/LA/ASVspoof2021_DF_eval/flac/...   eval     spoof   \n",
       "\n",
       "      sur_model        alg  \n",
       "0             -      clean  \n",
       "1             -      clean  \n",
       "2             -      clean  \n",
       "3             -      clean  \n",
       "4       rawnet2     MIFGSM  \n",
       "...         ...        ...  \n",
       "67846         -      clean  \n",
       "67847         -      clean  \n",
       "67848   rawnet2     DIFGSM  \n",
       "67849   rawnet2  FGSM_eps3  \n",
       "67850         -      clean  \n",
       "\n",
       "[67851 rows x 5 columns]>"
      ]
     },
     "execution_count": 2,
     "metadata": {},
     "output_type": "execute_result"
    }
   ],
   "source": [
    "# load in the wild protocol\n",
    "adv2024 = pd.read_csv(\"protocol_old.txt\", sep=\" \", header=None)\n",
    "adv2024.columns = ['utt', 'subset', 'label']\n",
    "adv2024['sur_model'] = adv2024['utt'].apply(lambda x: x.split('/')[-3])\n",
    "adv2024['alg'] = adv2024['utt'].apply(lambda x: x.split('/')[-2])\n",
    "# if alg is 'flac', then change to 'clean'\n",
    "adv2024['alg'] = adv2024['alg'].apply(lambda x: 'clean' if x == 'flac' else x)\n",
    "adv2024['sur_model'] = adv2024['sur_model'].apply(lambda x: '-' if x == 'ASVspoof2021_DF_eval' else x)\n",
    "adv2024.head"
   ]
  },
  {
   "cell_type": "code",
   "execution_count": 3,
   "metadata": {},
   "outputs": [
    {
     "name": "stdout",
     "output_type": "stream",
     "text": [
      "clean        45234\n",
      "PGD_RM50      4989\n",
      "DIFGSM        4702\n",
      "IFGSM         3870\n",
      "MIFGSM        3842\n",
      "FGSM_eps3     3801\n",
      "PGD_eps3      1413\n",
      "Name: alg, dtype: int64\n"
     ]
    }
   ],
   "source": [
    "print(adv2024['alg'].value_counts())"
   ]
  },
  {
   "cell_type": "code",
   "execution_count": 9,
   "metadata": {},
   "outputs": [],
   "source": [
    "# drop row with alg = 'PGD_eps3' and sur_model = 'aasistssl'\n",
    "adv2024 = adv2024[~((adv2024['alg'] == 'PGD_eps3') & (adv2024['sur_model'] == 'aasistssl'))]\n",
    "adv2024 = adv2024[~((adv2024['alg'] == 'DIFGSM') & (adv2024['sur_model'] == 'aasistssl'))]\n",
    "adv2024 = adv2024[~((adv2024['alg'] == 'IFGSM') & (adv2024['sur_model'] == 'aasistssl'))]\n",
    "adv2024 = adv2024[~((adv2024['alg'] == 'MIFGSM') & (adv2024['sur_model'] == 'aasistssl'))]\n",
    "#"
   ]
  },
  {
   "cell_type": "code",
   "execution_count": 10,
   "metadata": {},
   "outputs": [
    {
     "data": {
      "text/plain": [
       "<bound method NDFrame.head of                                                     utt subset  label  \\\n",
       "0     Dataset/maibui/random_masking_piotrakawa/ASVSp...   eval  spoof   \n",
       "1     Dataset/maibui/random_masking_piotrakawa/ASVSp...   eval  spoof   \n",
       "2     Dataset/maibui/random_masking_piotrakawa/ASVSp...   eval  spoof   \n",
       "3     Dataset/maibui/random_masking_piotrakawa/ASVSp...   eval  spoof   \n",
       "4     Dataset/maibui/random_masking_piotrakawa/ASVSp...   eval  spoof   \n",
       "...                                                 ...    ...    ...   \n",
       "9561  Dataset/maibui/random_masking_piotrakawa/ASVSp...   eval  spoof   \n",
       "9562  Dataset/maibui/random_masking_piotrakawa/ASVSp...   eval  spoof   \n",
       "9563  Dataset/maibui/random_masking_piotrakawa/ASVSp...   eval  spoof   \n",
       "9564  Dataset/maibui/random_masking_piotrakawa/ASVSp...   eval  spoof   \n",
       "9565  Dataset/maibui/random_masking_piotrakawa/ASVSp...   eval  spoof   \n",
       "\n",
       "      sur_model     alg  \n",
       "0     aasistssl   IFGSM  \n",
       "1     aasistssl   IFGSM  \n",
       "2     aasistssl   IFGSM  \n",
       "3     aasistssl   IFGSM  \n",
       "4     aasistssl   IFGSM  \n",
       "...         ...     ...  \n",
       "9561  aasistssl  MIFGSM  \n",
       "9562  aasistssl  MIFGSM  \n",
       "9563  aasistssl  MIFGSM  \n",
       "9564  aasistssl  MIFGSM  \n",
       "9565  aasistssl  MIFGSM  \n",
       "\n",
       "[9566 rows x 5 columns]>"
      ]
     },
     "execution_count": 10,
     "metadata": {},
     "output_type": "execute_result"
    }
   ],
   "source": [
    "\n",
    "IFGSM_path = 'Dataset/maibui/random_masking_piotrakawa/ASVSpoof21DFeval/aasistssl/adv_training_defense2/IFGSM'\n",
    "PGD_path = 'Dataset/maibui/random_masking_piotrakawa/ASVSpoof21DFeval/aasistssl/adv_training_defense/PGD_RM50'\n",
    "DIFGSM_path = 'Dataset/maibui/random_masking_piotrakawa/ASVSpoof21DFeval/aasistssl/adv_training_defense2/DIFGSM'\n",
    "MIFGSM_path = 'Dataset/maibui/random_masking_piotrakawa/ASVSpoof21DFeval/aasistssl/adv_training_defense2/MIFGSM'\n",
    "\n",
    "# list all file in the path with the ending of IFGSM.flac\n",
    "IFGSM_files = [os.path.join(IFGSM_path,f) for f in os.listdir(IFGSM_path) if f.endswith('IFGSM.flac')]\n",
    "PGD_files = [os.path.join(PGD_path,f) for f in os.listdir(PGD_path) if f.endswith('PGD.flac')]\n",
    "DIFGSM_files = [os.path.join(DIFGSM_path,f) for f in os.listdir(DIFGSM_path) if f.endswith('DIFGSM.flac')]\n",
    "MIFGSM_files = [os.path.join(MIFGSM_path,f) for f in os.listdir(MIFGSM_path) if f.endswith('MIFGSM.flac')]\n",
    "\n",
    "# random select samples\n",
    "import random\n",
    "IFGSM_files = random.sample(IFGSM_files, 1294)\n",
    "PGD_files = random.sample(PGD_files, 4989)\n",
    "DIFGSM_files = random.sample(DIFGSM_files, 2054)\n",
    "MIFGSM_files = random.sample(MIFGSM_files, 1229)\n",
    "\n",
    "# create a new dataframe\n",
    "adv_df = pd.DataFrame()\n",
    "adv_df['utt'] = IFGSM_files + PGD_files + DIFGSM_files + MIFGSM_files\n",
    "adv_df['subset'] = 'eval'\n",
    "adv_df['label'] = 'spoof'\n",
    "adv_df['sur_model'] = 'aasistssl'\n",
    "adv_df['alg'] = adv_df['utt'].apply(lambda x: x.split('_')[-1].split('.')[0])\n",
    "adv_df.head\n"
   ]
  },
  {
   "cell_type": "code",
   "execution_count": 11,
   "metadata": {},
   "outputs": [
    {
     "data": {
      "text/html": [
       "<div>\n",
       "<style scoped>\n",
       "    .dataframe tbody tr th:only-of-type {\n",
       "        vertical-align: middle;\n",
       "    }\n",
       "\n",
       "    .dataframe tbody tr th {\n",
       "        vertical-align: top;\n",
       "    }\n",
       "\n",
       "    .dataframe thead th {\n",
       "        text-align: right;\n",
       "    }\n",
       "</style>\n",
       "<table border=\"1\" class=\"dataframe\">\n",
       "  <thead>\n",
       "    <tr style=\"text-align: right;\">\n",
       "      <th></th>\n",
       "      <th>utt</th>\n",
       "      <th>subset</th>\n",
       "      <th>label</th>\n",
       "      <th>sur_model</th>\n",
       "      <th>alg</th>\n",
       "    </tr>\n",
       "  </thead>\n",
       "  <tbody>\n",
       "    <tr>\n",
       "      <th>0</th>\n",
       "      <td>Dataset/ASVspoof/LA/ASVspoof2021_DF_eval/flac/...</td>\n",
       "      <td>eval</td>\n",
       "      <td>spoof</td>\n",
       "      <td>-</td>\n",
       "      <td>clean</td>\n",
       "    </tr>\n",
       "    <tr>\n",
       "      <th>1</th>\n",
       "      <td>Dataset/ASVspoof/LA/ASVspoof2021_DF_eval/flac/...</td>\n",
       "      <td>eval</td>\n",
       "      <td>bonafide</td>\n",
       "      <td>-</td>\n",
       "      <td>clean</td>\n",
       "    </tr>\n",
       "    <tr>\n",
       "      <th>2</th>\n",
       "      <td>Dataset/ASVspoof/LA/ASVspoof2021_DF_eval/flac/...</td>\n",
       "      <td>eval</td>\n",
       "      <td>spoof</td>\n",
       "      <td>-</td>\n",
       "      <td>clean</td>\n",
       "    </tr>\n",
       "    <tr>\n",
       "      <th>3</th>\n",
       "      <td>Dataset/ASVspoof/LA/ASVspoof2021_DF_eval/flac/...</td>\n",
       "      <td>eval</td>\n",
       "      <td>bonafide</td>\n",
       "      <td>-</td>\n",
       "      <td>clean</td>\n",
       "    </tr>\n",
       "    <tr>\n",
       "      <th>4</th>\n",
       "      <td>Dataset/maibui/random_masking_piotrakawa/ASVSp...</td>\n",
       "      <td>eval</td>\n",
       "      <td>spoof</td>\n",
       "      <td>rawnet2</td>\n",
       "      <td>MIFGSM</td>\n",
       "    </tr>\n",
       "    <tr>\n",
       "      <th>...</th>\n",
       "      <td>...</td>\n",
       "      <td>...</td>\n",
       "      <td>...</td>\n",
       "      <td>...</td>\n",
       "      <td>...</td>\n",
       "    </tr>\n",
       "    <tr>\n",
       "      <th>67846</th>\n",
       "      <td>Dataset/ASVspoof/LA/ASVspoof2021_DF_eval/flac/...</td>\n",
       "      <td>eval</td>\n",
       "      <td>spoof</td>\n",
       "      <td>-</td>\n",
       "      <td>clean</td>\n",
       "    </tr>\n",
       "    <tr>\n",
       "      <th>67847</th>\n",
       "      <td>Dataset/ASVspoof/LA/ASVspoof2021_DF_eval/flac/...</td>\n",
       "      <td>eval</td>\n",
       "      <td>bonafide</td>\n",
       "      <td>-</td>\n",
       "      <td>clean</td>\n",
       "    </tr>\n",
       "    <tr>\n",
       "      <th>67848</th>\n",
       "      <td>Dataset/maibui/random_masking_piotrakawa/ASVSp...</td>\n",
       "      <td>eval</td>\n",
       "      <td>spoof</td>\n",
       "      <td>rawnet2</td>\n",
       "      <td>DIFGSM</td>\n",
       "    </tr>\n",
       "    <tr>\n",
       "      <th>67849</th>\n",
       "      <td>Dataset/maibui/random_masking_piotrakawa/ASVSp...</td>\n",
       "      <td>eval</td>\n",
       "      <td>spoof</td>\n",
       "      <td>rawnet2</td>\n",
       "      <td>FGSM_eps3</td>\n",
       "    </tr>\n",
       "    <tr>\n",
       "      <th>67850</th>\n",
       "      <td>Dataset/ASVspoof/LA/ASVspoof2021_DF_eval/flac/...</td>\n",
       "      <td>eval</td>\n",
       "      <td>spoof</td>\n",
       "      <td>-</td>\n",
       "      <td>clean</td>\n",
       "    </tr>\n",
       "  </tbody>\n",
       "</table>\n",
       "<p>67851 rows × 5 columns</p>\n",
       "</div>"
      ],
      "text/plain": [
       "                                                     utt subset     label  \\\n",
       "0      Dataset/ASVspoof/LA/ASVspoof2021_DF_eval/flac/...   eval     spoof   \n",
       "1      Dataset/ASVspoof/LA/ASVspoof2021_DF_eval/flac/...   eval  bonafide   \n",
       "2      Dataset/ASVspoof/LA/ASVspoof2021_DF_eval/flac/...   eval     spoof   \n",
       "3      Dataset/ASVspoof/LA/ASVspoof2021_DF_eval/flac/...   eval  bonafide   \n",
       "4      Dataset/maibui/random_masking_piotrakawa/ASVSp...   eval     spoof   \n",
       "...                                                  ...    ...       ...   \n",
       "67846  Dataset/ASVspoof/LA/ASVspoof2021_DF_eval/flac/...   eval     spoof   \n",
       "67847  Dataset/ASVspoof/LA/ASVspoof2021_DF_eval/flac/...   eval  bonafide   \n",
       "67848  Dataset/maibui/random_masking_piotrakawa/ASVSp...   eval     spoof   \n",
       "67849  Dataset/maibui/random_masking_piotrakawa/ASVSp...   eval     spoof   \n",
       "67850  Dataset/ASVspoof/LA/ASVspoof2021_DF_eval/flac/...   eval     spoof   \n",
       "\n",
       "      sur_model        alg  \n",
       "0             -      clean  \n",
       "1             -      clean  \n",
       "2             -      clean  \n",
       "3             -      clean  \n",
       "4       rawnet2     MIFGSM  \n",
       "...         ...        ...  \n",
       "67846         -      clean  \n",
       "67847         -      clean  \n",
       "67848   rawnet2     DIFGSM  \n",
       "67849   rawnet2  FGSM_eps3  \n",
       "67850         -      clean  \n",
       "\n",
       "[67851 rows x 5 columns]"
      ]
     },
     "execution_count": 11,
     "metadata": {},
     "output_type": "execute_result"
    }
   ],
   "source": [
    "full_df = pd.concat([adv2024, adv_df], axis=0)\n",
    "# full_df\n",
    "# shuffle the dataframe\n",
    "full_df = full_df.sample(frac=1).reset_index(drop=True)\n",
    "full_df"
   ]
  },
  {
   "cell_type": "code",
   "execution_count": 6,
   "metadata": {},
   "outputs": [],
   "source": [
    "full_df = adv2024\n",
    "full_df['full_path'] = full_df['utt'].apply(lambda x: '/datab/'+x)"
   ]
  },
  {
   "cell_type": "code",
   "execution_count": 9,
   "metadata": {},
   "outputs": [],
   "source": [
    "# make protocol.txt\n",
    "full_df.to_csv('protocol.txt', sep=' ', header=False, index=False, columns=['utt', 'label', 'subset'])"
   ]
  },
  {
   "cell_type": "markdown",
   "metadata": {},
   "source": [
    "## Result"
   ]
  },
  {
   "cell_type": "code",
   "execution_count": 16,
   "metadata": {},
   "outputs": [
    {
     "data": {
      "text/plain": [
       "<bound method NDFrame.head of                                                      utt subset     label  \\\n",
       "0      Dataset/ASVspoof/LA/ASVspoof2021_DF_eval/flac/...   eval     spoof   \n",
       "1      Dataset/ASVspoof/LA/ASVspoof2021_DF_eval/flac/...   eval  bonafide   \n",
       "2      Dataset/ASVspoof/LA/ASVspoof2021_DF_eval/flac/...   eval     spoof   \n",
       "3      Dataset/ASVspoof/LA/ASVspoof2021_DF_eval/flac/...   eval  bonafide   \n",
       "4      Dataset/maibui/random_masking_piotrakawa/ASVSp...   eval     spoof   \n",
       "...                                                  ...    ...       ...   \n",
       "67846  Dataset/ASVspoof/LA/ASVspoof2021_DF_eval/flac/...   eval     spoof   \n",
       "67847  Dataset/ASVspoof/LA/ASVspoof2021_DF_eval/flac/...   eval  bonafide   \n",
       "67848  Dataset/maibui/random_masking_piotrakawa/ASVSp...   eval     spoof   \n",
       "67849  Dataset/maibui/random_masking_piotrakawa/ASVSp...   eval     spoof   \n",
       "67850  Dataset/ASVspoof/LA/ASVspoof2021_DF_eval/flac/...   eval     spoof   \n",
       "\n",
       "      sur_model     alg  \n",
       "0             -   clean  \n",
       "1             -   clean  \n",
       "2             -   clean  \n",
       "3             -   clean  \n",
       "4       rawnet2  MIFGSM  \n",
       "...         ...     ...  \n",
       "67846         -   clean  \n",
       "67847         -   clean  \n",
       "67848   rawnet2  DIFGSM  \n",
       "67849   rawnet2    FGSM  \n",
       "67850         -   clean  \n",
       "\n",
       "[67851 rows x 5 columns]>"
      ]
     },
     "execution_count": 16,
     "metadata": {},
     "output_type": "execute_result"
    }
   ],
   "source": [
    "# load in the wild protocol\n",
    "adv2024 = pd.read_csv(\"protocol.txt\", sep=\" \", header=None)\n",
    "adv2024.columns = ['utt', 'subset', 'label']\n",
    "adv2024['sur_model'] = adv2024['utt'].apply(lambda x: x.split('/')[-3])\n",
    "adv2024['alg'] = adv2024['utt'].apply(lambda x: x.split('/')[-2])\n",
    "# if alg is 'flac', then change to 'clean'\n",
    "adv2024['alg'] = adv2024['alg'].apply(lambda x: 'clean' if x == 'flac' else x)\n",
    "# if alg is 'PGD_eps3', then change to 'PGD'\n",
    "adv2024['alg'] = adv2024['alg'].apply(lambda x: 'PGD' if 'PGD' in x else x)\n",
    "# if alg is FGSM_eps3, then change to 'FGSM'\n",
    "adv2024['alg'] = adv2024['alg'].apply(lambda x: 'FGSM' if x=='FGSM_eps3' else x)\n",
    "\n",
    "adv2024['sur_model'] = adv2024['sur_model'].apply(lambda x: '-' if x == 'ASVspoof2021_DF_eval' else x)\n",
    "# if sur_model is adv_training_defense, then change to 'aasistssl'\n",
    "adv2024['sur_model'] = adv2024['sur_model'].apply(lambda x: 'aasistssl' if 'adv_training_defense' in x else x)\n",
    "adv2024.head"
   ]
  },
  {
   "cell_type": "code",
   "execution_count": 13,
   "metadata": {},
   "outputs": [
    {
     "name": "stdout",
     "output_type": "stream",
     "text": [
      "EER: 24.3808%, threshold: -0.0043\n",
      "Misclassification rate\n",
      "clean - 3 - 0.0050%\n",
      "MIFGSM - 2490 - 48.4059%\n",
      "PGD - 4081 - 59.4292%\n",
      "IFGSM - 2639 - 50.8968%\n",
      "FGSM - 1987 - 39.2921%\n",
      "DIFGSM - 3113 - 49.8479%\n"
     ]
    },
    {
     "data": {
      "image/png": "[encoded data removed]",
      "text/plain": [
       "<Figure size 432x288 with 2 Axes>"
      ]
     },
     "metadata": {
      "needs_background": "light"
     },
     "output_type": "display_data"
    }
   ],
   "source": [
    "pred_df = pd.read_csv(\"../../Supcon-voco/docs/ADV2024_5_6_augall_wav2vec2_vib_gelu_supcon_acmccs_large_corpus_nov27_avg.txt\", sep=\" \", header=None)\n",
    "pred_df.columns = [\"utt\", \"spoof\",\"score\"]\n",
    "\n",
    "# remove if the utt contain \"maibui\"\n",
    "# pred_df = pred_df[~pred_df['utt'].str.contains(\"maibui\")]\n",
    "# pred_df['pred'] = pred_df['pred'].apply(lambda x: 'bonafide' if x == 1 else 'spoof')\n",
    "# pred_df['pred'] = pred_df['score'].apply(lambda x: 'spoof' if x < threshold else 'bonafide')\n",
    "pred_df.head\n",
    "# merge eval_df and pred_df on utt\n",
    "res_df = pd.merge(adv2024, pred_df, on='utt')\n",
    "# print(res_df.head)\n",
    "# compute EER\n",
    "spoof_scores = res_df[res_df['label'] == 'spoof']['score']\n",
    "bonafide_scores = res_df[res_df['label'] == 'bonafide']['score']\n",
    "eer, threshold = compute_eer(bonafide_scores, spoof_scores)\n",
    "print(\"EER: {:.4f}%, threshold: {:.4f}\".format(eer*100, threshold))\n",
    "res_df['pred'] = res_df['score'].apply(lambda x: 'spoof' if x < threshold else 'bonafide')\n",
    "\n",
    "print(\"Misclassification rate\")\n",
    "filter = 'alg'\n",
    "groups = res_df[filter].unique()\n",
    "for group in groups:\n",
    "    num_misclass = res_df[(res_df['label'] == 'spoof') & (res_df['pred']=='bonafide') & (res_df[filter]==group)].shape[0]\n",
    "    num_total = res_df[res_df[filter]==group].shape[0]\n",
    "    print(\"{} - {} - {:.4f}%\".format(group, num_misclass, num_misclass/num_total*100))\n",
    "    \n",
    "# print(\"False negative\")\n",
    "# for group in groups:\n",
    "#     num_misclass = res_df[(res_df['label'] == 'bonafide') & (res_df['pred']=='spoof') & (res_df[filter]==group)].shape[0]\n",
    "#     num_total = res_df[res_df[filter]==group].shape[0]\n",
    "#     print(\"{} - {} - {:.4f}%\".format(group, num_misclass, num_misclass/num_total*100))\n",
    "\n",
    "# confusion matrix\n",
    "cm = confusion_matrix(res_df[\"label\"], res_df[\"pred\"], labels=[\"spoof\",\"bonafide\"])\n",
    "disp = ConfusionMatrixDisplay(confusion_matrix=cm, display_labels=[\"spoof\",\"bonafide\"])\n",
    "disp.plot(cmap='Greens', values_format='g')\n",
    "plt.title(\"docs/ADV2024_1e-08_3_augall_wav2vec2_coaasist_la2019_epoch_27.txt\")\n",
    "# plt.savefig(\"figs/ori_assl_cm.png\", dpi=300)\n",
    "plt.show()"
   ]
  },
  {
   "cell_type": "code",
   "execution_count": 18,
   "metadata": {},
   "outputs": [
    {
     "name": "stdout",
     "output_type": "stream",
     "text": [
      "EER: 6.3846%, threshold: -0.0279\n",
      "Misclassification rate\n",
      "- - 369 - 0.8158%\n",
      "rawnet2 - 769 - 6.5313%\n",
      "aasistssl - 1303 - 34.0565%\n"
     ]
    },
    {
     "data": {
      "image/png": "[encoded data removed]",
      "text/plain": [
       "<Figure size 432x288 with 2 Axes>"
      ]
     },
     "metadata": {
      "needs_background": "light"
     },
     "output_type": "display_data"
    }
   ],
   "source": [
    "\n",
    "pred_df = pd.read_csv(\"/datab/phucdt/SCL-Deepfake-audio-detection_bk/docs/ADV2024_conf-3_verify.txt\", sep=\" \", header=None)\n",
    "pred_df.columns = [\"utt\", \"spoof\",\"score\"]\n",
    "\n",
    "# remove if the utt contain \"maibui\"\n",
    "# pred_df = pred_df[~pred_df['utt'].str.contains(\"maibui\")]\n",
    "# pred_df['pred'] = pred_df['pred'].apply(lambda x: 'bonafide' if x == 1 else 'spoof')\n",
    "# pred_df['pred'] = pred_df['score'].apply(lambda x: 'spoof' if x < threshold else 'bonafide')\n",
    "pred_df.head\n",
    "# merge eval_df and pred_df on utt\n",
    "res_df = pd.merge(adv2024, pred_df, on='utt')\n",
    "# print(res_df.head)\n",
    "# compute EER\n",
    "spoof_scores = res_df[res_df['label'] == 'spoof']['score']\n",
    "bonafide_scores = res_df[res_df['label'] == 'bonafide']['score']\n",
    "eer, threshold = compute_eer(bonafide_scores, spoof_scores)\n",
    "print(\"EER: {:.4f}%, threshold: {:.4f}\".format(eer*100, threshold))\n",
    "res_df['pred'] = res_df['score'].apply(lambda x: 'spoof' if x < threshold else 'bonafide')\n",
    "\n",
    "print(\"Misclassification rate\")\n",
    "filter = 'sur_model'\n",
    "groups = res_df[filter].unique()\n",
    "for group in groups:\n",
    "    num_misclass = res_df[(res_df['label'] == 'spoof') & (res_df['pred']=='bonafide') & (res_df[filter]==group)].shape[0]\n",
    "    num_total = res_df[res_df[filter]==group].shape[0]\n",
    "    print(\"{} - {} - {:.4f}%\".format(group, num_misclass, num_misclass/num_total*100))\n",
    "    \n",
    "# print(\"False negative\")\n",
    "# for group in groups:\n",
    "#     num_misclass = res_df[(res_df['label'] == 'bonafide') & (res_df['pred']=='spoof') & (res_df[filter]==group)].shape[0]\n",
    "#     num_total = res_df[res_df[filter]==group].shape[0]\n",
    "#     print(\"{} - {} - {:.4f}%\".format(group, num_misclass, num_misclass/num_total*100))\n",
    "\n",
    "# confusion matrix\n",
    "cm = confusion_matrix(res_df[\"label\"], res_df[\"pred\"], labels=[\"spoof\",\"bonafide\"])\n",
    "disp = ConfusionMatrixDisplay(confusion_matrix=cm, display_labels=[\"spoof\",\"bonafide\"])\n",
    "disp.plot(cmap='Greens', values_format='g')\n",
    "plt.title(\"ADV2024_conf-3_verify.txt\")\n",
    "# plt.savefig(\"figs/ori_assl_cm.png\", dpi=300)\n",
    "plt.show()"
   ]
  },
  {
   "cell_type": "code",
   "execution_count": 13,
   "metadata": {},
   "outputs": [
    {
     "name": "stdout",
     "output_type": "stream",
     "text": [
      "EER: 5.5987%, threshold: -0.7366\n",
      "Misclassification rate\n",
      "clean - 487 - 1.0766%\n",
      "MIFGSM - 151 - 3.9302%\n",
      "PGD - 1375 - 21.4777%\n",
      "IFGSM - 174 - 4.4961%\n",
      "FGSM - 152 - 3.9989%\n",
      "DIFGSM - 195 - 4.1472%\n"
     ]
    },
    {
     "data": {
      "image/png": "[encoded data removed]",
      "text/plain": [
       "<Figure size 432x288 with 2 Axes>"
      ]
     },
     "metadata": {
      "needs_background": "light"
     },
     "output_type": "display_data"
    }
   ],
   "source": [
    "pred_df = pd.read_csv(\"../../Supcon-voco/docs/ADV2024_1e-08_3_augall_wav2vec2_coaasist_la2019_epoch_27.txt\", sep=\" \", header=None)\n",
    "pred_df.columns = [\"utt\", \"spoof\",\"score\"]\n",
    "\n",
    "# remove if the utt contain \"maibui\"\n",
    "# pred_df = pred_df[~pred_df['utt'].str.contains(\"maibui\")]\n",
    "# pred_df['pred'] = pred_df['pred'].apply(lambda x: 'bonafide' if x == 1 else 'spoof')\n",
    "# pred_df['pred'] = pred_df['score'].apply(lambda x: 'spoof' if x < threshold else 'bonafide')\n",
    "pred_df.head\n",
    "# merge eval_df and pred_df on utt\n",
    "res_df = pd.merge(adv2024, pred_df, on='utt')\n",
    "# print(res_df.head)\n",
    "# compute EER\n",
    "spoof_scores = res_df[res_df['label'] == 'spoof']['score']\n",
    "bonafide_scores = res_df[res_df['label'] == 'bonafide']['score']\n",
    "eer, threshold = compute_eer(bonafide_scores, spoof_scores)\n",
    "print(\"EER: {:.4f}%, threshold: {:.4f}\".format(eer*100, threshold))\n",
    "res_df['pred'] = res_df['score'].apply(lambda x: 'spoof' if x < threshold else 'bonafide')\n",
    "\n",
    "print(\"Misclassification rate\")\n",
    "filter = 'alg'\n",
    "groups = res_df[filter].unique()\n",
    "for group in groups:\n",
    "    num_misclass = res_df[(res_df['label'] == 'spoof') & (res_df['pred']=='bonafide') & (res_df[filter]==group)].shape[0]\n",
    "    num_total = res_df[res_df[filter]==group].shape[0]\n",
    "    print(\"{} - {} - {:.4f}%\".format(group, num_misclass, num_misclass/num_total*100))\n",
    "    \n",
    "# print(\"False negative\")\n",
    "# for group in groups:\n",
    "#     num_misclass = res_df[(res_df['label'] == 'bonafide') & (res_df['pred']=='spoof') & (res_df[filter]==group)].shape[0]\n",
    "#     num_total = res_df[res_df[filter]==group].shape[0]\n",
    "#     print(\"{} - {} - {:.4f}%\".format(group, num_misclass, num_misclass/num_total*100))\n",
    "\n",
    "# confusion matrix\n",
    "cm = confusion_matrix(res_df[\"label\"], res_df[\"pred\"], labels=[\"spoof\",\"bonafide\"])\n",
    "disp = ConfusionMatrixDisplay(confusion_matrix=cm, display_labels=[\"spoof\",\"bonafide\"])\n",
    "disp.plot(cmap='Greens', values_format='g')\n",
    "plt.title(\"docs/ADV2024_1e-08_3_augall_wav2vec2_coaasist_la2019_epoch_27.txt\")\n",
    "# plt.savefig(\"figs/ori_assl_cm.png\", dpi=300)\n",
    "plt.show()"
   ]
  },
  {
   "cell_type": "code",
   "execution_count": 14,
   "metadata": {},
   "outputs": [
    {
     "name": "stdout",
     "output_type": "stream",
     "text": [
      "EER: 5.0360%, threshold: -0.2588\n",
      "Misclassification rate\n",
      "clean - 1022 - 1.1130%\n",
      "MIFGSM - 175 - 2.2393%\n",
      "PGD - 2517 - 31.3880%\n",
      "IFGSM - 235 - 2.9898%\n",
      "FGSM - 183 - 2.3729%\n",
      "DIFGSM - 242 - 2.5388%\n"
     ]
    },
    {
     "data": {
      "image/png": "[encoded data removed]",
      "text/plain": [
       "<Figure size 432x288 with 2 Axes>"
      ]
     },
     "metadata": {
      "needs_background": "light"
     },
     "output_type": "display_data"
    }
   ],
   "source": [
    "# ADV2024_3_augall_wav2vec2_vib_asvspoof2019_epoch_13.txt\n",
    "pred_df = pd.read_csv(\"../../Supcon-voco/docs/ADV2024_3_augall_wav2vec2_vib_asvspoof2019_epoch_13.txt\", sep=\" \", header=None)\n",
    "pred_df.columns = [\"utt\", \"spoof\",\"score\"]\n",
    "\n",
    "# remove if the utt contain \"maibui\"\n",
    "# pred_df = pred_df[~pred_df['utt'].str.contains(\"maibui\")]\n",
    "# pred_df['pred'] = pred_df['pred'].apply(lambda x: 'bonafide' if x == 1 else 'spoof')\n",
    "# pred_df['pred'] = pred_df['score'].apply(lambda x: 'spoof' if x < threshold else 'bonafide')\n",
    "pred_df.head\n",
    "# merge eval_df and pred_df on utt\n",
    "res_df = pd.merge(adv2024, pred_df, on='utt')\n",
    "# print(res_df.head)\n",
    "# compute EER\n",
    "spoof_scores = res_df[res_df['label'] == 'spoof']['score']\n",
    "bonafide_scores = res_df[res_df['label'] == 'bonafide']['score']\n",
    "eer, threshold = compute_eer(bonafide_scores, spoof_scores)\n",
    "print(\"EER: {:.4f}%, threshold: {:.4f}\".format(eer*100, threshold))\n",
    "res_df['pred'] = res_df['score'].apply(lambda x: 'spoof' if x < threshold else 'bonafide')\n",
    "\n",
    "print(\"Misclassification rate\")\n",
    "filter = 'alg'\n",
    "groups = res_df[filter].unique()\n",
    "for group in groups:\n",
    "    num_misclass = res_df[(res_df['label'] == 'spoof') & (res_df['pred']=='bonafide') & (res_df[filter]==group)].shape[0]\n",
    "    num_total = res_df[res_df[filter]==group].shape[0]\n",
    "    print(\"{} - {} - {:.4f}%\".format(group, num_misclass, num_misclass/num_total*100))\n",
    "    \n",
    "# print(\"False negative\")\n",
    "# for group in groups:\n",
    "#     num_misclass = res_df[(res_df['label'] == 'bonafide') & (res_df['pred']=='spoof') & (res_df[filter]==group)].shape[0]\n",
    "#     num_total = res_df[res_df[filter]==group].shape[0]\n",
    "#     print(\"{} - {} - {:.4f}%\".format(group, num_misclass, num_misclass/num_total*100))\n",
    "\n",
    "# confusion matrix\n",
    "cm = confusion_matrix(res_df[\"label\"], res_df[\"pred\"], labels=[\"spoof\",\"bonafide\"])\n",
    "disp = ConfusionMatrixDisplay(confusion_matrix=cm, display_labels=[\"spoof\",\"bonafide\"])\n",
    "disp.plot(cmap='Greens', values_format='g')\n",
    "plt.title(\"docs/ADV2024_3_augall_wav2vec2_vib_asvspoof2019_epoch_13.txt\")\n",
    "# plt.savefig(\"figs/ori_assl_cm.png\", dpi=300)\n",
    "plt.show()"
   ]
  },
  {
   "cell_type": "code",
   "execution_count": 15,
   "metadata": {},
   "outputs": [
    {
     "name": "stdout",
     "output_type": "stream",
     "text": [
      "EER: 55.4543%, threshold: -0.3796\n",
      "Misclassification rate\n",
      "clean - 11011 - 24.3423%\n",
      "MIFGSM - 2009 - 74.1328%\n",
      "PGD - 478 - 33.8287%\n",
      "IFGSM - 2146 - 73.3174%\n",
      "FGSM - 2449 - 64.4304%\n",
      "DIFGSM - 2017 - 72.1904%\n"
     ]
    },
    {
     "data": {
      "image/png": "[encoded data removed]",
      "text/plain": [
       "<Figure size 432x288 with 2 Axes>"
      ]
     },
     "metadata": {
      "needs_background": "light"
     },
     "output_type": "display_data"
    }
   ],
   "source": [
    "# docs/ADV2024_5_augall_wav2vec2_linear_supcon_feb07_from_nov22_r__29_36_epoch_46.txt\n",
    "pred_df = pd.read_csv(\"/dataa/phucdt/vocodetect/Supcon-voco/docs/ADV2024_MIFGSM_RM_adjustCEW_numadv2580_algo3_epoch_19.txt\", sep=\" \", header=None)\n",
    "pred_df.columns = [\"utt\", \"spoof\",\"score\"]\n",
    "\n",
    "# remove if the utt contain \"maibui\"\n",
    "# pred_df = pred_df[~pred_df['utt'].str.contains(\"maibui\")]\n",
    "# pred_df['pred'] = pred_df['pred'].apply(lambda x: 'bonafide' if x == 1 else 'spoof')\n",
    "# pred_df['pred'] = pred_df['score'].apply(lambda x: 'spoof' if x < threshold else 'bonafide')\n",
    "pred_df.head\n",
    "# merge eval_df and pred_df on utt\n",
    "res_df = pd.merge(adv2024, pred_df, on='utt')\n",
    "# print(res_df.head)\n",
    "# compute EER\n",
    "spoof_scores = res_df[res_df['label'] == 'spoof']['score']\n",
    "bonafide_scores = res_df[res_df['label'] == 'bonafide']['score']\n",
    "eer, threshold = compute_eer(bonafide_scores, spoof_scores)\n",
    "print(\"EER: {:.4f}%, threshold: {:.4f}\".format(eer*100, threshold))\n",
    "res_df['pred'] = res_df['score'].apply(lambda x: 'spoof' if x < threshold else 'bonafide')\n",
    "\n",
    "print(\"Misclassification rate\")\n",
    "filter = 'alg'\n",
    "groups = res_df[filter].unique()\n",
    "for group in groups:\n",
    "    num_misclass = res_df[(res_df['label'] == 'spoof') & (res_df['pred']=='bonafide') & (res_df[filter]==group)].shape[0]\n",
    "    num_total = res_df[res_df[filter]==group].shape[0]\n",
    "    print(\"{} - {} - {:.4f}%\".format(group, num_misclass, num_misclass/num_total*100))\n",
    "    \n",
    "# print(\"False negative\")\n",
    "# for group in groups:\n",
    "#     num_misclass = res_df[(res_df['label'] == 'bonafide') & (res_df['pred']=='spoof') & (res_df[filter]==group)].shape[0]\n",
    "#     num_total = res_df[res_df[filter]==group].shape[0]\n",
    "#     print(\"{} - {} - {:.4f}%\".format(group, num_misclass, num_misclass/num_total*100))\n",
    "\n",
    "# confusion matrix\n",
    "cm = confusion_matrix(res_df[\"label\"], res_df[\"pred\"], labels=[\"spoof\",\"bonafide\"])\n",
    "disp = ConfusionMatrixDisplay(confusion_matrix=cm, display_labels=[\"spoof\",\"bonafide\"])\n",
    "disp.plot(cmap='Greens', values_format='g')\n",
    "plt.title(\"docs/ADV2024_3_augall_wav2vec2_vib_asvspoof2019_epoch_13.txt\")\n",
    "# plt.savefig(\"figs/ori_assl_cm.png\", dpi=300)\n",
    "plt.show()"
   ]
  },
  {
   "cell_type": "code",
   "execution_count": 6,
   "metadata": {},
   "outputs": [
    {
     "name": "stdout",
     "output_type": "stream",
     "text": [
      "EER: 51.7841%, threshold: -4.8795\n",
      "Misclassification rate\n",
      "clean - 815 - 1.8017%\n",
      "MIFGSM - 3839 - 99.9219%\n",
      "PGD - 6402 - 100.0000%\n",
      "IFGSM - 3867 - 99.9225%\n",
      "FGSM - 3800 - 99.9737%\n",
      "DIFGSM - 4701 - 99.9787%\n"
     ]
    },
    {
     "data": {
      "image/png": "[encoded data removed]",
      "text/plain": [
       "<Figure size 432x288 with 2 Axes>"
      ]
     },
     "metadata": {
      "needs_background": "light"
     },
     "output_type": "display_data"
    }
   ],
   "source": [
    "# ADV2024_vib_gelu_large_corpus_from_asvspoof5_20_epoch_11.txt\n",
    "pred_df = pd.read_csv(\"../../Supcon-voco/docs/ADV2024_vib_gelu_large_corpus_from_asvspoof5_20_epoch_11.txt\", sep=\" \", header=None)\n",
    "pred_df.columns = [\"utt\", \"spoof\",\"score\"]\n",
    "\n",
    "# remove if the utt contain \"maibui\"\n",
    "# pred_df = pred_df[~pred_df['utt'].str.contains(\"maibui\")]\n",
    "# pred_df['pred'] = pred_df['pred'].apply(lambda x: 'bonafide' if x == 1 else 'spoof')\n",
    "# pred_df['pred'] = pred_df['score'].apply(lambda x: 'spoof' if x < threshold else 'bonafide')\n",
    "pred_df.head\n",
    "# merge eval_df and pred_df on utt\n",
    "res_df = pd.merge(adv2024, pred_df, on='utt')\n",
    "# print(res_df.head)\n",
    "# compute EER\n",
    "spoof_scores = res_df[res_df['label'] == 'spoof']['score']\n",
    "bonafide_scores = res_df[res_df['label'] == 'bonafide']['score']\n",
    "eer, threshold = compute_eer(bonafide_scores, spoof_scores)\n",
    "print(\"EER: {:.4f}%, threshold: {:.4f}\".format(eer*100, threshold))\n",
    "res_df['pred'] = res_df['score'].apply(lambda x: 'spoof' if x < threshold else 'bonafide')\n",
    "\n",
    "print(\"Misclassification rate\")\n",
    "filter = 'alg'\n",
    "groups = res_df[filter].unique()\n",
    "for group in groups:\n",
    "    num_misclass = res_df[(res_df['label'] == 'spoof') & (res_df['pred']=='bonafide') & (res_df[filter]==group)].shape[0]\n",
    "    num_total = res_df[res_df[filter]==group].shape[0]\n",
    "    print(\"{} - {} - {:.4f}%\".format(group, num_misclass, num_misclass/num_total*100))\n",
    "    \n",
    "# print(\"False negative\")\n",
    "# for group in groups:\n",
    "#     num_misclass = res_df[(res_df['label'] == 'bonafide') & (res_df['pred']=='spoof') & (res_df[filter]==group)].shape[0]\n",
    "#     num_total = res_df[res_df[filter]==group].shape[0]\n",
    "#     print(\"{} - {} - {:.4f}%\".format(group, num_misclass, num_misclass/num_total*100))\n",
    "\n",
    "# confusion matrix\n",
    "cm = confusion_matrix(res_df[\"label\"], res_df[\"pred\"], labels=[\"spoof\",\"bonafide\"])\n",
    "disp = ConfusionMatrixDisplay(confusion_matrix=cm, display_labels=[\"spoof\",\"bonafide\"])\n",
    "disp.plot(cmap='Greens', values_format='g')\n",
    "plt.title(\"docs/ADV2024_3_augall_wav2vec2_vib_asvspoof2019_epoch_13.txt\")\n",
    "# plt.savefig(\"figs/ori_assl_cm.png\", dpi=300)\n",
    "plt.show()"
   ]
  },
  {
   "cell_type": "code",
   "execution_count": null,
   "metadata": {},
   "outputs": [
    {
     "name": "stdout",
     "output_type": "stream",
     "text": [
      "EER: 55.5152%, threshold: -0.3795\n",
      "Misclassification rate\n",
      "clean - 11004 - 24.3268%\n",
      "MIFGSM - 1962 - 72.3985%\n",
      "PGD - 1841 - 54.6615%\n",
      "IFGSM - 2093 - 71.5067%\n",
      "FGSM - 2345 - 61.6943%\n",
      "DIFGSM - 1974 - 70.6514%\n"
     ]
    },
    {
     "data": {
      "image/png": "[encoded data removed]",
      "text/plain": [
       "<Figure size 432x288 with 2 Axes>"
      ]
     },
     "metadata": {
      "needs_background": "light"
     },
     "output_type": "display_data"
    }
   ],
   "source": [
    "# /dataa/phucdt/vocodetect/Supcon-voco/docs/ADV2024_aasist_DIFGSM_RM_adjustCEW_numadv2580_algo3_epoch_23.txt\n",
    "pred_df = pd.read_csv(\"/dataa/phucdt/vocodetect/Supcon-voco/docs/ADV2024_aasist_DIFGSM_RM_adjustCEW_numadv2580_algo3_epoch_23.txt\", sep=\" \", header=None)\n",
    "pred_df.columns = [\"utt\", \"spoof\",\"score\"]\n",
    "\n",
    "# remove if the utt contain \"maibui\"\n",
    "# pred_df = pred_df[~pred_df['utt'].str.contains(\"maibui\")]\n",
    "# pred_df['pred'] = pred_df['pred'].apply(lambda x: 'bonafide' if x == 1 else 'spoof')\n",
    "# pred_df['pred'] = pred_df['score'].apply(lambda x: 'spoof' if x < threshold else 'bonafide')\n",
    "pred_df.head\n",
    "# merge eval_df and pred_df on utt\n",
    "res_df = pd.merge(adv2024, pred_df, on='utt')\n",
    "# print(res_df.head)\n",
    "# compute EER\n",
    "spoof_scores = res_df[res_df['label'] == 'spoof']['score']\n",
    "bonafide_scores = res_df[res_df['label'] == 'bonafide']['score']\n",
    "eer, threshold = compute_eer(bonafide_scores, spoof_scores)\n",
    "print(\"EER: {:.4f}%, threshold: {:.4f}\".format(eer*100, threshold))\n",
    "res_df['pred'] = res_df['score'].apply(lambda x: 'spoof' if x < threshold else 'bonafide')\n",
    "\n",
    "print(\"Misclassification rate\")\n",
    "filter = 'alg'\n",
    "groups = res_df[filter].unique()\n",
    "for group in groups:\n",
    "    num_misclass = res_df[(res_df['label'] == 'spoof') & (res_df['pred']=='bonafide') & (res_df[filter]==group)].shape[0]\n",
    "    num_total = res_df[res_df[filter]==group].shape[0]\n",
    "    print(\"{} - {} - {:.4f}%\".format(group, num_misclass, num_misclass/num_total*100))\n",
    "    \n",
    "# print(\"False negative\")\n",
    "# for group in groups:\n",
    "#     num_misclass = res_df[(res_df['label'] == 'bonafide') & (res_df['pred']=='spoof') & (res_df[filter]==group)].shape[0]\n",
    "#     num_total = res_df[res_df[filter]==group].shape[0]\n",
    "#     print(\"{} - {} - {:.4f}%\".format(group, num_misclass, num_misclass/num_total*100))\n",
    "\n",
    "# confusion matrix\n",
    "cm = confusion_matrix(res_df[\"label\"], res_df[\"pred\"], labels=[\"spoof\",\"bonafide\"])\n",
    "disp = ConfusionMatrixDisplay(confusion_matrix=cm, display_labels=[\"spoof\",\"bonafide\"])\n",
    "disp.plot(cmap='Greens', values_format='g')\n",
    "plt.title(\"/dataa/phucdt/vocodetect/Supcon-voco/docs/ADV2024_aasist_DIFGSM_RM_adjustCEW_numadv2580_algo3_epoch_23.txt\")\n",
    "# plt.savefig(\"figs/ori_assl_cm.png\", dpi=300)\n",
    "plt.show()"
   ]
  },
  {
   "cell_type": "code",
   "execution_count": 19,
   "metadata": {},
   "outputs": [
    {
     "name": "stdout",
     "output_type": "stream",
     "text": [
      "EER: 55.5345%, threshold: -0.3795\n",
      "Misclassification rate\n",
      "clean - 10998 - 24.3136%\n",
      "MIFGSM - 1966 - 72.5461%\n",
      "PGD - 1846 - 54.8100%\n",
      "IFGSM - 2094 - 71.5408%\n",
      "FGSM - 2347 - 61.7469%\n",
      "DIFGSM - 1976 - 70.7230%\n"
     ]
    },
    {
     "data": {
      "image/png": "[encoded data removed]",
      "text/plain": [
       "<Figure size 432x288 with 2 Axes>"
      ]
     },
     "metadata": {
      "needs_background": "light"
     },
     "output_type": "display_data"
    }
   ],
   "source": [
    "# /dataa/phucdt/vocodetect/Supcon-voco/docs/ADV2024_aasist_DIFGSM_RM_adjustCEW_numadv2580_algo3_epoch_23.txt\n",
    "pred_df = pd.read_csv(\"/dataa/phucdt/vocodetect/Supcon-voco/docs/ADV2024_DIFGSM_RM2_adjustCEW_numadv2580_algo3_epoch_19.txt\", sep=\" \", header=None)\n",
    "pred_df.columns = [\"utt\", \"spoof\",\"score\"]\n",
    "\n",
    "# remove if the utt contain \"maibui\"\n",
    "# pred_df = pred_df[~pred_df['utt'].str.contains(\"maibui\")]\n",
    "# pred_df['pred'] = pred_df['pred'].apply(lambda x: 'bonafide' if x == 1 else 'spoof')\n",
    "# pred_df['pred'] = pred_df['score'].apply(lambda x: 'spoof' if x < threshold else 'bonafide')\n",
    "pred_df.head\n",
    "# merge eval_df and pred_df on utt\n",
    "res_df = pd.merge(adv2024, pred_df, on='utt')\n",
    "# print(res_df.head)\n",
    "# compute EER\n",
    "spoof_scores = res_df[res_df['label'] == 'spoof']['score']\n",
    "bonafide_scores = res_df[res_df['label'] == 'bonafide']['score']\n",
    "eer, threshold = compute_eer(bonafide_scores, spoof_scores)\n",
    "print(\"EER: {:.4f}%, threshold: {:.4f}\".format(eer*100, threshold))\n",
    "res_df['pred'] = res_df['score'].apply(lambda x: 'spoof' if x < threshold else 'bonafide')\n",
    "\n",
    "print(\"Misclassification rate\")\n",
    "filter = 'alg'\n",
    "groups = res_df[filter].unique()\n",
    "for group in groups:\n",
    "    num_misclass = res_df[(res_df['label'] == 'spoof') & (res_df['pred']=='bonafide') & (res_df[filter]==group)].shape[0]\n",
    "    num_total = res_df[res_df[filter]==group].shape[0]\n",
    "    print(\"{} - {} - {:.4f}%\".format(group, num_misclass, num_misclass/num_total*100))\n",
    "    \n",
    "# print(\"False negative\")\n",
    "# for group in groups:\n",
    "#     num_misclass = res_df[(res_df['label'] == 'bonafide') & (res_df['pred']=='spoof') & (res_df[filter]==group)].shape[0]\n",
    "#     num_total = res_df[res_df[filter]==group].shape[0]\n",
    "#     print(\"{} - {} - {:.4f}%\".format(group, num_misclass, num_misclass/num_total*100))\n",
    "\n",
    "# confusion matrix\n",
    "cm = confusion_matrix(res_df[\"label\"], res_df[\"pred\"], labels=[\"spoof\",\"bonafide\"])\n",
    "disp = ConfusionMatrixDisplay(confusion_matrix=cm, display_labels=[\"spoof\",\"bonafide\"])\n",
    "disp.plot(cmap='Greens', values_format='g')\n",
    "plt.title(\"/dataa/phucdt/vocodetect/Supcon-voco/docs/ADV2024_DIFGSM_RM2_adjustCEW_numadv2580_algo3_epoch_19.txt\")\n",
    "# plt.savefig(\"figs/ori_assl_cm.png\", dpi=300)\n",
    "plt.show()"
   ]
  }
 ],
 "metadata": {
  "kernelspec": {
   "display_name": "base",
   "language": "python",
   "name": "python3"
  },
  "language_info": {
   "codemirror_mode": {
    "name": "ipython",
    "version": 3
   },
   "file_extension": ".py",
   "mimetype": "text/x-python",
   "name": "python",
   "nbconvert_exporter": "python",
   "pygments_lexer": "ipython3",
   "version": "3.9.12"
  }
 },
 "nbformat": 4,
 "nbformat_minor": 2
}
