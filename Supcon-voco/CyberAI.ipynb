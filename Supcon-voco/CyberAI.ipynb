{
 "cells": [
  {
   "cell_type": "code",
   "execution_count": 1,
   "metadata": {},
   "outputs": [
    {
     "name": "stderr",
     "output_type": "stream",
     "text": [
      "/home/phucdt/anaconda3/envs/asvspoof5/lib/python3.9/site-packages/scipy/__init__.py:146: UserWarning: A NumPy version >=1.16.5 and <1.23.0 is required for this version of SciPy (detected version 1.23.5\n",
      "  warnings.warn(f\"A NumPy version >={np_minversion} and <{np_maxversion}\"\n"
     ]
    }
   ],
   "source": [
    "import numpy as np \n",
    "import pandas as pd\n",
    "import matplotlib.pyplot as plt\n",
    "import os\n",
    "from tqdm import tqdm\n",
    "from sklearn.metrics import confusion_matrix, ConfusionMatrixDisplay, accuracy_score, f1_score, recall_score, precision_score, det_curve\n",
    "from evaluate_metrics import compute_eer, compute_cllr, compute_min_dcf, calculate_minDCF_EER_CLLR_actDCF\n",
    "import librosa\n",
    "from IPython.display import Audio, display\n",
    "import librosa.display\n",
    "import matplotlib.pyplot as plt\n",
    "import random\n",
    "def recursive_list_files(directory, extension=None):\n",
    "    \"\"\"\n",
    "    Recursively list files in a directory\n",
    "    :param directory: directory to list files from\n",
    "    :param extension: file extension to filter by\n",
    "    :return: list of files in directory\n",
    "    \"\"\"\n",
    "    files = []\n",
    "    for root, dirs, filenames in os.walk(directory, followlinks=True):\n",
    "        for filename in filenames:\n",
    "            if extension is None or filename.endswith(extension):\n",
    "                files.append(os.path.join(root, filename))\n",
    "    return files\n",
    "\n",
    "def play_and_show(file_path):\n",
    "    \"\"\"\n",
    "    Play and show an audio file\n",
    "    :param file_path: path to audio file\n",
    "    \"\"\"\n",
    "    y, sr = librosa.load(file_path, sr=None)\n",
    "    fig, ax = plt.subplots(nrows=1, ncols=1, sharex=True)\n",
    "    display(Audio(file_path, rate=16000))\n",
    "    # Compute the spectrogram\n",
    "    S = np.abs(librosa.stft(y, n_fft=2048, hop_length=240, win_length=480, window='hamming'))\n",
    "    D = librosa.amplitude_to_db(S, ref=np.max)\n",
    "    img = librosa.display.specshow(D, y_axis='linear', x_axis='time', n_fft=2048, hop_length=240, win_length=480, \n",
    "                               sr=sr, ax=ax)\n",
    "    plt.show()\n",
    "\n",
    "    "
   ]
  },
  {
   "cell_type": "code",
   "execution_count": 2,
   "metadata": {},
   "outputs": [],
   "source": [
    "datadir = '/dataa/phucdt/vocodetect/traindata/CyberAICup2024/rTTSD_Train'\n",
    "protocol = pd.read_csv('/dataa/phucdt/vocodetect/traindata/CyberAICup2024/my_rTTSD_train_list_protocol.txt', sep=' ', header=None)\n",
    "protocol.columns = ['utt', 'subset', 'label']\n"
   ]
  },
  {
   "cell_type": "code",
   "execution_count": 3,
   "metadata": {},
   "outputs": [
    {
     "name": "stderr",
     "output_type": "stream",
     "text": [
      "100%|██████████| 33358/33358 [12:58<00:00, 42.87it/s]\n"
     ]
    }
   ],
   "source": [
    "# calculate the duration and add it to the protocol\n",
    "duration = []\n",
    "for idx, row in tqdm(protocol.iterrows(), total=len(protocol)):\n",
    "    file_path = os.path.join(datadir, row['utt'])\n",
    "    y, sr = librosa.load(file_path, sr=None)\n",
    "    duration.append(len(y) / sr)\n",
    "protocol['duration'] = duration\n"
   ]
  },
  {
   "cell_type": "code",
   "execution_count": 4,
   "metadata": {},
   "outputs": [],
   "source": [
    "protocol.to_csv('/dataa/phucdt/vocodetect/traindata/CyberAICup2024/my_rTTSD_train_list_protocol_duration.csv', index=False)"
   ]
  }
 ],
 "metadata": {
  "kernelspec": {
   "display_name": "asvspoof5",
   "language": "python",
   "name": "python3"
  },
  "language_info": {
   "codemirror_mode": {
    "name": "ipython",
    "version": 3
   },
   "file_extension": ".py",
   "mimetype": "text/x-python",
   "name": "python",
   "nbconvert_exporter": "python",
   "pygments_lexer": "ipython3",
   "version": "3.9.19"
  }
 },
 "nbformat": 4,
 "nbformat_minor": 2
}
