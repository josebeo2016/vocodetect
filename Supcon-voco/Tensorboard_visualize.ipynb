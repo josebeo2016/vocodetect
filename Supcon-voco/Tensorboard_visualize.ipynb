{
 "cells": [
  {
   "cell_type": "code",
   "execution_count": null,
   "metadata": {},
   "outputs": [],
   "source": [
    "from tensorflow.python.summary.summary_iterator import summary_iterator\n",
    "\n",
    "        "
   ]
  },
  {
   "cell_type": "code",
   "execution_count": 10,
   "metadata": {},
   "outputs": [],
   "source": [
    "from packaging import version\n",
    "\n",
    "import pandas as pd\n",
    "from matplotlib import pyplot as plt\n",
    "import seaborn as sns\n",
    "from scipy import stats\n",
    "import tensorboard as tb"
   ]
  },
  {
   "cell_type": "code",
   "execution_count": 11,
   "metadata": {},
   "outputs": [
    {
     "name": "stdout",
     "output_type": "stream",
     "text": [
      "TensorBoard version:  2.12.3\n"
     ]
    }
   ],
   "source": [
    "major_ver, minor_ver, _ = version.parse(tb.__version__).release\n",
    "assert major_ver >= 2 and minor_ver >= 3, \\\n",
    "    \"This notebook requires TensorBoard 2.3 or later.\"\n",
    "print(\"TensorBoard version: \", tb.__version__)"
   ]
  },
  {
   "cell_type": "code",
   "execution_count": 41,
   "metadata": {},
   "outputs": [
    {
     "name": "stdout",
     "output_type": "stream",
     "text": [
      "<bound method NDFrame.head of      step             tag      value\n",
      "0       0  train_accuracy  50.275192\n",
      "1       0    val_accuracy  51.310833\n",
      "2       0        val_loss   0.472823\n",
      "3       0            loss   0.497764\n",
      "4       0      train_L_CE   0.584476\n",
      "..    ...             ...        ...\n",
      "665    66     train_L_CF1   1.169196\n",
      "666    66     train_L_CF2   1.174435\n",
      "667    66        val_L_CE   0.009723\n",
      "668    66       val_L_CF1   1.198038\n",
      "669    66       val_L_CF2   1.191209\n",
      "\n",
      "[670 rows x 3 columns]>\n"
     ]
    }
   ],
   "source": [
    "# get data from event file\n",
    "df = pd.DataFrame()\n",
    "data = []\n",
    "for e in summary_iterator(\"logs/model_weighted_CCE_80_1_1e-07_aug_asvspoof_2019_linear_nll_2l_online/events.out.tfevents.1693285013.AISRC2\"):\n",
    "    # each step is a row\n",
    "    # each tag is a column\n",
    "    for v in e.summary.value:\n",
    "        data.append((e.step, v.tag, v.simple_value))\n",
    "        \n",
    "df = pd.DataFrame(data, columns=['step', 'tag', 'value'])\n",
    "print(df.head)\n",
    "df.to_csv('logs/model_weighted_CCE_80_1_1e-07_aug_asvspoof_2019_linear_nll_2l_online.csv', index=False)\n",
    "# val_L_CEdf[df.tag == 'val_L_CE']['value']"
   ]
  },
  {
   "cell_type": "code",
   "execution_count": 31,
   "metadata": {},
   "outputs": [
    {
     "data": {
      "text/plain": [
       "array(['train_accuracy', 'val_accuracy', 'val_loss', 'loss', 'train_L_CE',\n",
       "       'train_L_CF1', 'train_L_CF2', 'val_L_CE', 'val_L_CF1', 'val_L_CF2'],\n",
       "      dtype=object)"
      ]
     },
     "execution_count": 31,
     "metadata": {},
     "output_type": "execute_result"
    }
   ],
   "source": [
    "\n",
    "df = pd.DataFrame(data, columns=['step', 'tag', 'value'])\n",
    "df.tag.unique()"
   ]
  },
  {
   "cell_type": "code",
   "execution_count": 30,
   "metadata": {},
   "outputs": [
    {
     "data": {
      "text/plain": [
       "7      0.527812\n",
       "17     0.527411\n",
       "27     0.526472\n",
       "37     0.524697\n",
       "47     0.521692\n",
       "57     0.516889\n",
       "67     0.507094\n",
       "77     0.492973\n",
       "87     0.465845\n",
       "97     0.424674\n",
       "107    0.361138\n",
       "117    0.274669\n",
       "127    0.186868\n",
       "137    0.113005\n",
       "147    0.059579\n",
       "157    0.027585\n",
       "167    0.025339\n",
       "177    0.020960\n",
       "187    0.016321\n",
       "197    0.009111\n",
       "207    0.044919\n",
       "217    0.015250\n",
       "227    0.013785\n",
       "237    0.011486\n",
       "247    0.018389\n",
       "257    0.015352\n",
       "267    0.011151\n",
       "277    0.009727\n",
       "287    0.010087\n",
       "297    0.007674\n",
       "307    0.024145\n",
       "317    0.017085\n",
       "327    0.009439\n",
       "337    0.004686\n",
       "347    0.006956\n",
       "357    0.007489\n",
       "367    0.005515\n",
       "377    0.005409\n",
       "387    0.006087\n",
       "397    0.010484\n",
       "407    0.012013\n",
       "417    0.007748\n",
       "427    0.036304\n",
       "437    0.005337\n",
       "447    0.010170\n",
       "457    0.003349\n",
       "467    0.002686\n",
       "477    0.012340\n",
       "487    0.022943\n",
       "497    0.005267\n",
       "507    0.004423\n",
       "517    0.001769\n",
       "527    0.005324\n",
       "537    0.007476\n",
       "547    0.002502\n",
       "557    0.047918\n",
       "567    0.006766\n",
       "577    0.005134\n",
       "Name: value, dtype: float64"
      ]
     },
     "execution_count": 30,
     "metadata": {},
     "output_type": "execute_result"
    }
   ],
   "source": [
    "df[df.tag == 'val_L_CE']['value']"
   ]
  },
  {
   "cell_type": "code",
   "execution_count": 16,
   "metadata": {},
   "outputs": [],
   "source": [
    "# convert to pandas dataframe\n",
    "df = pd.DataFrame(data)"
   ]
  },
  {
   "cell_type": "code",
   "execution_count": 17,
   "metadata": {},
   "outputs": [
    {
     "data": {
      "text/html": [
       "<div>\n",
       "<style scoped>\n",
       "    .dataframe tbody tr th:only-of-type {\n",
       "        vertical-align: middle;\n",
       "    }\n",
       "\n",
       "    .dataframe tbody tr th {\n",
       "        vertical-align: top;\n",
       "    }\n",
       "\n",
       "    .dataframe thead th {\n",
       "        text-align: right;\n",
       "    }\n",
       "</style>\n",
       "<table border=\"1\" class=\"dataframe\">\n",
       "  <thead>\n",
       "    <tr style=\"text-align: right;\">\n",
       "      <th></th>\n",
       "      <th>0</th>\n",
       "      <th>1</th>\n",
       "      <th>2</th>\n",
       "    </tr>\n",
       "  </thead>\n",
       "  <tbody>\n",
       "    <tr>\n",
       "      <th>0</th>\n",
       "      <td>0</td>\n",
       "      <td>train_accuracy</td>\n",
       "      <td>54.545456</td>\n",
       "    </tr>\n",
       "    <tr>\n",
       "      <th>1</th>\n",
       "      <td>0</td>\n",
       "      <td>val_accuracy</td>\n",
       "      <td>54.545456</td>\n",
       "    </tr>\n",
       "    <tr>\n",
       "      <th>2</th>\n",
       "      <td>0</td>\n",
       "      <td>val_loss</td>\n",
       "      <td>0.476058</td>\n",
       "    </tr>\n",
       "    <tr>\n",
       "      <th>3</th>\n",
       "      <td>0</td>\n",
       "      <td>loss</td>\n",
       "      <td>0.482235</td>\n",
       "    </tr>\n",
       "    <tr>\n",
       "      <th>4</th>\n",
       "      <td>0</td>\n",
       "      <td>train_L_CE</td>\n",
       "      <td>0.528406</td>\n",
       "    </tr>\n",
       "  </tbody>\n",
       "</table>\n",
       "</div>"
      ],
      "text/plain": [
       "   0               1          2\n",
       "0  0  train_accuracy  54.545456\n",
       "1  0    val_accuracy  54.545456\n",
       "2  0        val_loss   0.476058\n",
       "3  0            loss   0.482235\n",
       "4  0      train_L_CE   0.528406"
      ]
     },
     "execution_count": 17,
     "metadata": {},
     "output_type": "execute_result"
    }
   ],
   "source": [
    "df.head()"
   ]
  }
 ],
 "metadata": {
  "kernelspec": {
   "display_name": "py39",
   "language": "python",
   "name": "python3"
  },
  "language_info": {
   "codemirror_mode": {
    "name": "ipython",
    "version": 3
   },
   "file_extension": ".py",
   "mimetype": "text/x-python",
   "name": "python",
   "nbconvert_exporter": "python",
   "pygments_lexer": "ipython3",
   "version": "3.9.13"
  },
  "orig_nbformat": 4
 },
 "nbformat": 4,
 "nbformat_minor": 2
}
