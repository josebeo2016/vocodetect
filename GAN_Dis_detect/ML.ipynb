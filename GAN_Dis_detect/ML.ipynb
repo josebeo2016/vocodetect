{
 "cells": [
  {
   "cell_type": "code",
   "execution_count": 1,
   "metadata": {},
   "outputs": [],
   "source": [
    "from numpy import reshape\n",
    "import numpy as np\n",
    "import seaborn as sns\n",
    "import pandas as pd  \n",
    "import torch\n",
    "import os\n",
    "\n",
    "from tqdm import tqdm\n",
    "from pathlib import Path\n",
    "import json\n",
    "from unittest import result\n",
    "import torch\n",
    "import numpy as np\n",
    "from scipy.io.wavfile import write\n",
    "from env import AttrDict\n",
    "from meldataset import mel_spectrogram, MAX_WAV_VALUE, load_wav\n",
    "from hifigan import Generator, MultiPeriodDiscriminator, MultiScaleDiscriminator\n",
    "from utils import load_checkpoint\n",
    "import random\n",
    "import soundfile as sf\n",
    "MAX_WAV_VALUE = 32768.0\n",
    "import argparse\n",
    "from pathlib import Path\n",
    "from concurrent.futures import ProcessPoolExecutor\n",
    "from multiprocessing import cpu_count\n",
    "from tqdm import tqdm"
   ]
  },
  {
   "cell_type": "code",
   "execution_count": 2,
   "metadata": {},
   "outputs": [],
   "source": [
    "# Feature extract\n",
    "def discriminator_loss(disc_real_outputs, disc_generated_outputs):\n",
    "    loss = 0\n",
    "    r_losses = []\n",
    "    g_losses = []\n",
    "    for dr, dg in zip(disc_real_outputs, disc_generated_outputs):\n",
    "        r_loss = torch.mean((1-dr)**2)\n",
    "        g_loss = torch.mean(dg**2)\n",
    "        loss += (r_loss + g_loss)\n",
    "        r_losses.append(r_loss.item())\n",
    "        g_losses.append(g_loss.item())\n",
    "\n",
    "    return loss, r_losses, g_losses\n",
    "\n",
    "def feature_loss(fmap_r, fmap_g):\n",
    "    loss = 0\n",
    "    for dr, dg in zip(fmap_r, fmap_g):\n",
    "        for rl, gl in zip(dr, dg):\n",
    "            loss += torch.mean(torch.abs(rl - gl))\n",
    "\n",
    "    return loss*2\n",
    "\n",
    "class AttrDict(dict):\n",
    "    def __init__(self, *args, **kwargs):\n",
    "        super(AttrDict, self).__init__(*args, **kwargs)\n",
    "        self.__dict__ = self\n",
    "\n",
    "def get_mel(x,sr,h):\n",
    "    return mel_spectrogram(y=x, n_fft=h.n_fft, num_mels=h.num_mels, sampling_rate = sr, hop_size=h.hop_size, win_size=h.win_size, fmin=h.fmin, fmax=sr/2.0)\n",
    "\n",
    "def load_flac(full_path):\n",
    "    data, sampling_rate = sf.read(full_path)\n",
    "    return data, sampling_rate\n"
   ]
  },
  {
   "cell_type": "code",
   "execution_count": 3,
   "metadata": {},
   "outputs": [
    {
     "name": "stdout",
     "output_type": "stream",
     "text": [
      "Loading '/dataa/phucdt/vocodetect/hifi-gan/cp_16k/g_00255000'\n",
      "Complete.\n",
      "Loading '/dataa/phucdt/vocodetect/hifi-gan/cp_16k/do_00255000'\n",
      "Complete.\n"
     ]
    },
    {
     "data": {
      "text/plain": [
       "MultiScaleDiscriminator(\n",
       "  (discriminators): ModuleList(\n",
       "    (0): DiscriminatorS(\n",
       "      (convs): ModuleList(\n",
       "        (0): Conv1d(1, 128, kernel_size=(15,), stride=(1,), padding=(7,))\n",
       "        (1): Conv1d(128, 128, kernel_size=(41,), stride=(2,), padding=(20,), groups=4)\n",
       "        (2): Conv1d(128, 256, kernel_size=(41,), stride=(2,), padding=(20,), groups=16)\n",
       "        (3): Conv1d(256, 512, kernel_size=(41,), stride=(4,), padding=(20,), groups=16)\n",
       "        (4): Conv1d(512, 1024, kernel_size=(41,), stride=(4,), padding=(20,), groups=16)\n",
       "        (5): Conv1d(1024, 1024, kernel_size=(41,), stride=(1,), padding=(20,), groups=16)\n",
       "        (6): Conv1d(1024, 1024, kernel_size=(5,), stride=(1,), padding=(2,))\n",
       "      )\n",
       "      (conv_post): Conv1d(1024, 1, kernel_size=(3,), stride=(1,), padding=(1,))\n",
       "    )\n",
       "    (1): DiscriminatorS(\n",
       "      (convs): ModuleList(\n",
       "        (0): Conv1d(1, 128, kernel_size=(15,), stride=(1,), padding=(7,))\n",
       "        (1): Conv1d(128, 128, kernel_size=(41,), stride=(2,), padding=(20,), groups=4)\n",
       "        (2): Conv1d(128, 256, kernel_size=(41,), stride=(2,), padding=(20,), groups=16)\n",
       "        (3): Conv1d(256, 512, kernel_size=(41,), stride=(4,), padding=(20,), groups=16)\n",
       "        (4): Conv1d(512, 1024, kernel_size=(41,), stride=(4,), padding=(20,), groups=16)\n",
       "        (5): Conv1d(1024, 1024, kernel_size=(41,), stride=(1,), padding=(20,), groups=16)\n",
       "        (6): Conv1d(1024, 1024, kernel_size=(5,), stride=(1,), padding=(2,))\n",
       "      )\n",
       "      (conv_post): Conv1d(1024, 1, kernel_size=(3,), stride=(1,), padding=(1,))\n",
       "    )\n",
       "    (2): DiscriminatorS(\n",
       "      (convs): ModuleList(\n",
       "        (0): Conv1d(1, 128, kernel_size=(15,), stride=(1,), padding=(7,))\n",
       "        (1): Conv1d(128, 128, kernel_size=(41,), stride=(2,), padding=(20,), groups=4)\n",
       "        (2): Conv1d(128, 256, kernel_size=(41,), stride=(2,), padding=(20,), groups=16)\n",
       "        (3): Conv1d(256, 512, kernel_size=(41,), stride=(4,), padding=(20,), groups=16)\n",
       "        (4): Conv1d(512, 1024, kernel_size=(41,), stride=(4,), padding=(20,), groups=16)\n",
       "        (5): Conv1d(1024, 1024, kernel_size=(41,), stride=(1,), padding=(20,), groups=16)\n",
       "        (6): Conv1d(1024, 1024, kernel_size=(5,), stride=(1,), padding=(2,))\n",
       "      )\n",
       "      (conv_post): Conv1d(1024, 1, kernel_size=(3,), stride=(1,), padding=(1,))\n",
       "    )\n",
       "  )\n",
       "  (meanpools): ModuleList(\n",
       "    (0): AvgPool1d(kernel_size=(4,), stride=(2,), padding=(2,))\n",
       "    (1): AvgPool1d(kernel_size=(4,), stride=(2,), padding=(2,))\n",
       "  )\n",
       ")"
      ]
     },
     "execution_count": 3,
     "metadata": {},
     "output_type": "execute_result"
    }
   ],
   "source": [
    "config_file = \"/dataa/phucdt/vocodetect/hifi-gan/cp_16k/config.json\"\n",
    "do_file = \"/dataa/phucdt/vocodetect/hifi-gan/cp_16k/do_00255000\"\n",
    "g_file = \"/dataa/phucdt/vocodetect/hifi-gan/cp_16k/g_00255000\"\n",
    "device = \"cuda:0\"\n",
    "\n",
    "with open(config_file) as f:\n",
    "    data = f.read()\n",
    "json_config = json.loads(data)\n",
    "h = AttrDict(json_config)\n",
    "\n",
    "generator = Generator(h).to(device)\n",
    "\n",
    "state_dict_g = load_checkpoint(g_file, device)\n",
    "generator.load_state_dict(state_dict_g['generator'])\n",
    "\n",
    "mpd = MultiPeriodDiscriminator().to(device)\n",
    "msd = MultiScaleDiscriminator().to(device)\n",
    "\n",
    "state_dict_do = load_checkpoint(do_file, device)\n",
    "\n",
    "mpd.load_state_dict(state_dict_do['mpd'])\n",
    "msd.load_state_dict(state_dict_do['msd'])\n",
    "\n",
    "mpd.eval()\n",
    "msd.eval()"
   ]
  },
  {
   "cell_type": "code",
   "execution_count": 4,
   "metadata": {},
   "outputs": [],
   "source": [
    "def pad(x, max_len=64600):\n",
    "    x_len = x.shape[0]\n",
    "    if x_len >= max_len:\n",
    "        return x[:max_len]\n",
    "    # need to pad\n",
    "    num_repeats = int(max_len / x_len)+1\n",
    "    padded_x = np.tile(x, (1, num_repeats))[:, :max_len][0]\n",
    "    return padded_x\t"
   ]
  },
  {
   "cell_type": "code",
   "execution_count": 63,
   "metadata": {},
   "outputs": [],
   "source": [
    "audio_path = \"/dataa/Dataset/ASVspoof/LA/ASVspoof2019_LA_train/flac/LA_T_1272637.flac\"\n",
    "wav, sr = load_flac(audio_path)\n",
    "wav = pad(wav,max_len=64600)\n",
    "wav = torch.FloatTensor(wav).to(device)\n",
    "wav = wav.unsqueeze(0).unsqueeze(1)\n",
    "\n",
    "y_d_rs, y_d_gs, fmap_d_rs, fmap_d_gs = mpd(wav,wav.detach())\n",
    "y_s_rs, y_s_gs, fmap_s_rs, fmap_s_gs = msd(wav,wav.detach())\n",
    "emb_d = torch.flatten(fmap_d_rs[-1][-1], 1, -1).detach().squeeze()\n",
    "emb_s = torch.flatten(fmap_s_rs[-1][-1], 1, -1).detach().squeeze()"
   ]
  },
  {
   "cell_type": "code",
   "execution_count": 65,
   "metadata": {},
   "outputs": [
    {
     "data": {
      "text/plain": [
       "torch.Size([1, 1010, 1024])"
      ]
     },
     "execution_count": 65,
     "metadata": {},
     "output_type": "execute_result"
    }
   ],
   "source": [
    "fmap_s_rs[0][6].transpose(1, 2).shape"
   ]
  },
  {
   "cell_type": "code",
   "execution_count": 17,
   "metadata": {},
   "outputs": [
    {
     "data": {
      "text/plain": [
       "torch.Size([143])"
      ]
     },
     "execution_count": 17,
     "metadata": {},
     "output_type": "execute_result"
    }
   ],
   "source": [
    "x = torch.cat((emb_d, emb_s),0)\n",
    "x.shape"
   ]
  },
  {
   "cell_type": "code",
   "execution_count": 7,
   "metadata": {},
   "outputs": [
    {
     "name": "stdout",
     "output_type": "stream",
     "text": [
      "102\n",
      "torch.Size([102])\n",
      "torch.Size([102])\n",
      "torch.Size([102])\n",
      "torch.Size([102])\n",
      "torch.Size([102])\n"
     ]
    },
    {
     "data": {
      "text/plain": [
       "torch.Size([5, 102])"
      ]
     },
     "execution_count": 7,
     "metadata": {},
     "output_type": "execute_result"
    }
   ],
   "source": [
    "tmp = torch.Tensor().to(device)\n",
    "max_len = len(y_d_rs[0][0])\n",
    "print(max_len)\n",
    "for i in y_d_rs:\n",
    "    print(i[0,:max_len].shape)\n",
    "    tmp=torch.cat((tmp,i[0,:max_len]),dim=-1)\n",
    "    \n",
    "# y_d_rs[0][0].detach().cpu().shape\n",
    "tmp=tmp.reshape((5,102))\n",
    "tmp.shape\n"
   ]
  },
  {
   "cell_type": "code",
   "execution_count": 8,
   "metadata": {},
   "outputs": [
    {
     "data": {
      "text/plain": [
       "torch.Size([5, 102])"
      ]
     },
     "execution_count": 8,
     "metadata": {},
     "output_type": "execute_result"
    }
   ],
   "source": [
    "x = torch.load(\"./feats/2019_mpd_ys_102/LA_D_1000265.flac\")\n",
    "x.shape"
   ]
  },
  {
   "cell_type": "code",
   "execution_count": 8,
   "metadata": {},
   "outputs": [
    {
     "name": "stderr",
     "output_type": "stream",
     "text": [
      "50366it [00:53, 935.06it/s] \n"
     ]
    },
    {
     "data": {
      "text/html": [
       "<div>\n",
       "<style scoped>\n",
       "    .dataframe tbody tr th:only-of-type {\n",
       "        vertical-align: middle;\n",
       "    }\n",
       "\n",
       "    .dataframe tbody tr th {\n",
       "        vertical-align: top;\n",
       "    }\n",
       "\n",
       "    .dataframe thead th {\n",
       "        text-align: right;\n",
       "    }\n",
       "</style>\n",
       "<table border=\"1\" class=\"dataframe\">\n",
       "  <thead>\n",
       "    <tr style=\"text-align: right;\">\n",
       "      <th></th>\n",
       "      <th>utt</th>\n",
       "      <th>feats</th>\n",
       "    </tr>\n",
       "  </thead>\n",
       "  <tbody>\n",
       "    <tr>\n",
       "      <th>0</th>\n",
       "      <td>LA_T_7357347</td>\n",
       "      <td>[0.6257009, 0.59887695, 0.5864012, 0.58410853,...</td>\n",
       "    </tr>\n",
       "    <tr>\n",
       "      <th>1</th>\n",
       "      <td>LA_D_5081966</td>\n",
       "      <td>[0.47547257, 0.464983, 0.45322007, 0.45323932,...</td>\n",
       "    </tr>\n",
       "    <tr>\n",
       "      <th>2</th>\n",
       "      <td>LA_T_5310424</td>\n",
       "      <td>[0.8715479, 0.9270203, 0.8975519, 0.88319826, ...</td>\n",
       "    </tr>\n",
       "    <tr>\n",
       "      <th>3</th>\n",
       "      <td>LA_T_2607453</td>\n",
       "      <td>[0.922325, 0.9768211, 0.9993576, 0.9219039, 0....</td>\n",
       "    </tr>\n",
       "    <tr>\n",
       "      <th>4</th>\n",
       "      <td>LA_T_5194064</td>\n",
       "      <td>[0.6673494, 0.6926455, 0.7289912, 0.72983927, ...</td>\n",
       "    </tr>\n",
       "  </tbody>\n",
       "</table>\n",
       "</div>"
      ],
      "text/plain": [
       "            utt                                              feats\n",
       "0  LA_T_7357347  [0.6257009, 0.59887695, 0.5864012, 0.58410853,...\n",
       "1  LA_D_5081966  [0.47547257, 0.464983, 0.45322007, 0.45323932,...\n",
       "2  LA_T_5310424  [0.8715479, 0.9270203, 0.8975519, 0.88319826, ...\n",
       "3  LA_T_2607453  [0.922325, 0.9768211, 0.9993576, 0.9219039, 0....\n",
       "4  LA_T_5194064  [0.6673494, 0.6926455, 0.7289912, 0.72983927, ..."
      ]
     },
     "execution_count": 8,
     "metadata": {},
     "output_type": "execute_result"
    }
   ],
   "source": [
    "mypath = Path(\"/dataa/phucdt/vocodetect/feats/2019_mpd_cat_msd_y_143\")\n",
    "feat = pd.DataFrame()\n",
    "# feat.columns = [\"utt\", \"feats\"]\n",
    "emb_paths = mypath.rglob(\"*.flac\")\n",
    "for f in tqdm(emb_paths):\n",
    "    # print(f)\n",
    "    relative_path = f.relative_to(mypath)\n",
    "    utt = os.path.basename(f).replace(\".flac\",\"\")\n",
    "    emb = torch.load(f).cpu().detach().numpy()\n",
    "    # feat = feat.append({\"utt\": utt, \"feats\": emb}, ignore_index=True)\n",
    "    # # emb = torch.view_as_real(emb\n",
    "    newrow = pd.Series({\"utt\": utt, \"feats\": emb})\n",
    "    feat = pd.concat([feat, newrow.to_frame().T], ignore_index=True)\n",
    "    # print(bio_inp)\n",
    "\n",
    "\n",
    "feat.head()"
   ]
  },
  {
   "cell_type": "code",
   "execution_count": 32,
   "metadata": {},
   "outputs": [
    {
     "name": "stderr",
     "output_type": "stream",
     "text": [
      "44242it [00:00, 48888.29it/s]\n"
     ]
    }
   ],
   "source": [
    "mypath = Path(\"/dataa/Dataset/VCTK/\")\n",
    "emb_paths = mypath.rglob(\"*.wav\")\n",
    "list_file = []\n",
    "for f in tqdm(emb_paths):\n",
    "    relative_path = f.relative_to(mypath)\n",
    "    list_file.append(str(relative_path).replace(\".wav\",\"\")+\"|aaaa\\n\")"
   ]
  },
  {
   "cell_type": "code",
   "execution_count": 33,
   "metadata": {},
   "outputs": [
    {
     "data": {
      "text/plain": [
       "'p256/p256_268|aaaa\\n'"
      ]
     },
     "execution_count": 33,
     "metadata": {},
     "output_type": "execute_result"
    }
   ],
   "source": [
    "str(list_file[0])"
   ]
  },
  {
   "cell_type": "code",
   "execution_count": 34,
   "metadata": {},
   "outputs": [],
   "source": [
    "import random\n",
    "random.shuffle(list_file)\n",
    "train_list = list_file[:40000]\n",
    "eval_list = list_file[40000:]\n"
   ]
  },
  {
   "cell_type": "code",
   "execution_count": 35,
   "metadata": {},
   "outputs": [],
   "source": [
    "with open(\"./hifi-gan/VCTK/train.txt\", \"w\") as f:\n",
    "    f.writelines(train_list)\n",
    "with open(\"./hifi-gan/VCTK/test.txt\", \"w\") as f:\n",
    "    f.writelines(eval_list)"
   ]
  },
  {
   "cell_type": "code",
   "execution_count": 9,
   "metadata": {},
   "outputs": [
    {
     "data": {
      "text/html": [
       "<div>\n",
       "<style scoped>\n",
       "    .dataframe tbody tr th:only-of-type {\n",
       "        vertical-align: middle;\n",
       "    }\n",
       "\n",
       "    .dataframe tbody tr th {\n",
       "        vertical-align: top;\n",
       "    }\n",
       "\n",
       "    .dataframe thead th {\n",
       "        text-align: right;\n",
       "    }\n",
       "</style>\n",
       "<table border=\"1\" class=\"dataframe\">\n",
       "  <thead>\n",
       "    <tr style=\"text-align: right;\">\n",
       "      <th></th>\n",
       "      <th>sid</th>\n",
       "      <th>utt</th>\n",
       "      <th>phy</th>\n",
       "      <th>attack</th>\n",
       "      <th>class</th>\n",
       "      <th>feats</th>\n",
       "    </tr>\n",
       "  </thead>\n",
       "  <tbody>\n",
       "    <tr>\n",
       "      <th>0</th>\n",
       "      <td>LA_0079</td>\n",
       "      <td>LA_T_1271820</td>\n",
       "      <td>-</td>\n",
       "      <td>-</td>\n",
       "      <td>bonafide</td>\n",
       "      <td>[0.491719, 0.44580877, 0.41168386, 0.4468835, ...</td>\n",
       "    </tr>\n",
       "    <tr>\n",
       "      <th>1</th>\n",
       "      <td>LA_0079</td>\n",
       "      <td>LA_T_1272637</td>\n",
       "      <td>-</td>\n",
       "      <td>-</td>\n",
       "      <td>bonafide</td>\n",
       "      <td>[0.6733224, 0.7313524, 0.7296496, 0.8248597, 0...</td>\n",
       "    </tr>\n",
       "    <tr>\n",
       "      <th>2</th>\n",
       "      <td>LA_0079</td>\n",
       "      <td>LA_T_1276960</td>\n",
       "      <td>-</td>\n",
       "      <td>-</td>\n",
       "      <td>bonafide</td>\n",
       "      <td>[0.44089127, 0.44330055, 0.4449181, 0.44075567...</td>\n",
       "    </tr>\n",
       "    <tr>\n",
       "      <th>3</th>\n",
       "      <td>LA_0079</td>\n",
       "      <td>LA_T_1341447</td>\n",
       "      <td>-</td>\n",
       "      <td>-</td>\n",
       "      <td>bonafide</td>\n",
       "      <td>[0.46057808, 0.44826508, 0.41439158, 0.4344164...</td>\n",
       "    </tr>\n",
       "    <tr>\n",
       "      <th>4</th>\n",
       "      <td>LA_0079</td>\n",
       "      <td>LA_T_1363611</td>\n",
       "      <td>-</td>\n",
       "      <td>-</td>\n",
       "      <td>bonafide</td>\n",
       "      <td>[0.43592113, 0.41540164, 0.44281036, 0.4542095...</td>\n",
       "    </tr>\n",
       "  </tbody>\n",
       "</table>\n",
       "</div>"
      ],
      "text/plain": [
       "       sid           utt phy attack     class  \\\n",
       "0  LA_0079  LA_T_1271820   -      -  bonafide   \n",
       "1  LA_0079  LA_T_1272637   -      -  bonafide   \n",
       "2  LA_0079  LA_T_1276960   -      -  bonafide   \n",
       "3  LA_0079  LA_T_1341447   -      -  bonafide   \n",
       "4  LA_0079  LA_T_1363611   -      -  bonafide   \n",
       "\n",
       "                                               feats  \n",
       "0  [0.491719, 0.44580877, 0.41168386, 0.4468835, ...  \n",
       "1  [0.6733224, 0.7313524, 0.7296496, 0.8248597, 0...  \n",
       "2  [0.44089127, 0.44330055, 0.4449181, 0.44075567...  \n",
       "3  [0.46057808, 0.44826508, 0.41439158, 0.4344164...  \n",
       "4  [0.43592113, 0.41540164, 0.44281036, 0.4542095...  "
      ]
     },
     "execution_count": 9,
     "metadata": {},
     "output_type": "execute_result"
    }
   ],
   "source": [
    "# Training set\n",
    "df = pd.read_csv('/dataa/Dataset/ASVspoof/LA/ASVspoof2019_LA_cm_protocols/ASVspoof2019.LA.cm.train.trn.txt', sep=' ')\n",
    "df.columns = [\"sid\", \"utt\", \"phy\", \"attack\", \"class\"]\n",
    "train = df.join(feat.set_index('utt'), on=\"utt\", how = \"inner\")\n",
    "train.head()"
   ]
  },
  {
   "cell_type": "code",
   "execution_count": 10,
   "metadata": {},
   "outputs": [
    {
     "data": {
      "text/html": [
       "<div>\n",
       "<style scoped>\n",
       "    .dataframe tbody tr th:only-of-type {\n",
       "        vertical-align: middle;\n",
       "    }\n",
       "\n",
       "    .dataframe tbody tr th {\n",
       "        vertical-align: top;\n",
       "    }\n",
       "\n",
       "    .dataframe thead th {\n",
       "        text-align: right;\n",
       "    }\n",
       "</style>\n",
       "<table border=\"1\" class=\"dataframe\">\n",
       "  <thead>\n",
       "    <tr style=\"text-align: right;\">\n",
       "      <th></th>\n",
       "      <th>sid</th>\n",
       "      <th>utt</th>\n",
       "      <th>phy</th>\n",
       "      <th>attack</th>\n",
       "      <th>class</th>\n",
       "      <th>feats</th>\n",
       "    </tr>\n",
       "  </thead>\n",
       "  <tbody>\n",
       "    <tr>\n",
       "      <th>0</th>\n",
       "      <td>LA_0069</td>\n",
       "      <td>LA_D_1105538</td>\n",
       "      <td>-</td>\n",
       "      <td>-</td>\n",
       "      <td>bonafide</td>\n",
       "      <td>[0.49437612, 0.48988664, 0.4504388, 0.4695245,...</td>\n",
       "    </tr>\n",
       "    <tr>\n",
       "      <th>1</th>\n",
       "      <td>LA_0069</td>\n",
       "      <td>LA_D_1125976</td>\n",
       "      <td>-</td>\n",
       "      <td>-</td>\n",
       "      <td>bonafide</td>\n",
       "      <td>[0.5270141, 0.5310479, 0.53959227, 0.5427851, ...</td>\n",
       "    </tr>\n",
       "    <tr>\n",
       "      <th>2</th>\n",
       "      <td>LA_0069</td>\n",
       "      <td>LA_D_1293230</td>\n",
       "      <td>-</td>\n",
       "      <td>-</td>\n",
       "      <td>bonafide</td>\n",
       "      <td>[0.5992119, 0.6958335, 0.61461896, 0.67813784,...</td>\n",
       "    </tr>\n",
       "    <tr>\n",
       "      <th>3</th>\n",
       "      <td>LA_0069</td>\n",
       "      <td>LA_D_1340209</td>\n",
       "      <td>-</td>\n",
       "      <td>-</td>\n",
       "      <td>bonafide</td>\n",
       "      <td>[0.8440463, 0.8074619, 0.7218627, 0.72035813, ...</td>\n",
       "    </tr>\n",
       "    <tr>\n",
       "      <th>4</th>\n",
       "      <td>LA_0069</td>\n",
       "      <td>LA_D_1376638</td>\n",
       "      <td>-</td>\n",
       "      <td>-</td>\n",
       "      <td>bonafide</td>\n",
       "      <td>[0.5676229, 0.537273, 0.5739882, 0.5865316, 0....</td>\n",
       "    </tr>\n",
       "  </tbody>\n",
       "</table>\n",
       "</div>"
      ],
      "text/plain": [
       "       sid           utt phy attack     class  \\\n",
       "0  LA_0069  LA_D_1105538   -      -  bonafide   \n",
       "1  LA_0069  LA_D_1125976   -      -  bonafide   \n",
       "2  LA_0069  LA_D_1293230   -      -  bonafide   \n",
       "3  LA_0069  LA_D_1340209   -      -  bonafide   \n",
       "4  LA_0069  LA_D_1376638   -      -  bonafide   \n",
       "\n",
       "                                               feats  \n",
       "0  [0.49437612, 0.48988664, 0.4504388, 0.4695245,...  \n",
       "1  [0.5270141, 0.5310479, 0.53959227, 0.5427851, ...  \n",
       "2  [0.5992119, 0.6958335, 0.61461896, 0.67813784,...  \n",
       "3  [0.8440463, 0.8074619, 0.7218627, 0.72035813, ...  \n",
       "4  [0.5676229, 0.537273, 0.5739882, 0.5865316, 0....  "
      ]
     },
     "execution_count": 10,
     "metadata": {},
     "output_type": "execute_result"
    }
   ],
   "source": [
    "# Dev set\n",
    "df = pd.read_csv('/dataa/Dataset/ASVspoof/LA/ASVspoof2019_LA_cm_protocols/ASVspoof2019.LA.cm.dev.trl.txt', sep=' ')\n",
    "df.columns = [\"sid\", \"utt\", \"phy\", \"attack\", \"class\"]\n",
    "dev = df.join(feat.set_index('utt'), on=\"utt\", how = \"inner\")\n",
    "dev.head()"
   ]
  },
  {
   "cell_type": "code",
   "execution_count": 11,
   "metadata": {},
   "outputs": [
    {
     "data": {
      "text/html": [
       "<div>\n",
       "<style scoped>\n",
       "    .dataframe tbody tr th:only-of-type {\n",
       "        vertical-align: middle;\n",
       "    }\n",
       "\n",
       "    .dataframe tbody tr th {\n",
       "        vertical-align: top;\n",
       "    }\n",
       "\n",
       "    .dataframe thead th {\n",
       "        text-align: right;\n",
       "    }\n",
       "</style>\n",
       "<table border=\"1\" class=\"dataframe\">\n",
       "  <thead>\n",
       "    <tr style=\"text-align: right;\">\n",
       "      <th></th>\n",
       "      <th>sid</th>\n",
       "      <th>utt</th>\n",
       "      <th>phy</th>\n",
       "      <th>attack</th>\n",
       "      <th>class</th>\n",
       "      <th>feats</th>\n",
       "    </tr>\n",
       "  </thead>\n",
       "  <tbody>\n",
       "  </tbody>\n",
       "</table>\n",
       "</div>"
      ],
      "text/plain": [
       "Empty DataFrame\n",
       "Columns: [sid, utt, phy, attack, class, feats]\n",
       "Index: []"
      ]
     },
     "execution_count": 11,
     "metadata": {},
     "output_type": "execute_result"
    }
   ],
   "source": [
    "# Eval set\n",
    "df = pd.read_csv('/dataa/Dataset/ASVspoof/LA/ASVspoof2019_LA_cm_protocols/ASVspoof2019.LA.cm.eval.trl.txt', sep=' ')\n",
    "df.columns = [\"sid\", \"utt\", \"phy\", \"attack\", \"class\"]\n",
    "eval = df.join(feat.set_index('utt'), on=\"utt\", how = \"inner\")\n",
    "eval.head()"
   ]
  },
  {
   "cell_type": "markdown",
   "metadata": {},
   "source": [
    "# Random Forest"
   ]
  },
  {
   "cell_type": "code",
   "execution_count": 12,
   "metadata": {},
   "outputs": [],
   "source": [
    "from sklearn.ensemble import RandomForestClassifier\n",
    "clf = RandomForestClassifier(n_estimators=100, random_state=0, n_jobs=16)"
   ]
  },
  {
   "cell_type": "code",
   "execution_count": 13,
   "metadata": {},
   "outputs": [
    {
     "name": "stderr",
     "output_type": "stream",
     "text": [
      "/tmp/ipykernel_1195674/2263313023.py:1: FutureWarning: The frame.append method is deprecated and will be removed from pandas in a future version. Use pandas.concat instead.\n",
      "  dev_train = train.append(dev)\n"
     ]
    },
    {
     "data": {
      "text/plain": [
       "RandomForestClassifier(n_jobs=16, random_state=0)"
      ]
     },
     "execution_count": 13,
     "metadata": {},
     "output_type": "execute_result"
    }
   ],
   "source": [
    "dev_train = train.append(dev)\n",
    "X = train['feats'].to_list()\n",
    "Y = train['class'].to_numpy()\n",
    "clf.fit(X,Y)"
   ]
  },
  {
   "cell_type": "code",
   "execution_count": 15,
   "metadata": {},
   "outputs": [
    {
     "data": {
      "text/plain": [
       "0.8975969085859196"
      ]
     },
     "execution_count": 15,
     "metadata": {},
     "output_type": "execute_result"
    }
   ],
   "source": [
    "X_test = dev['feats'].to_list()\n",
    "Y_test = dev['class'].to_numpy()\n",
    "clf.score(X_test, Y_test)"
   ]
  },
  {
   "cell_type": "markdown",
   "metadata": {},
   "source": [
    "# SVM"
   ]
  },
  {
   "cell_type": "code",
   "execution_count": 80,
   "metadata": {},
   "outputs": [
    {
     "data": {
      "text/html": [
       "<style>#sk-container-id-3 {color: black;background-color: white;}#sk-container-id-3 pre{padding: 0;}#sk-container-id-3 div.sk-toggleable {background-color: white;}#sk-container-id-3 label.sk-toggleable__label {cursor: pointer;display: block;width: 100%;margin-bottom: 0;padding: 0.3em;box-sizing: border-box;text-align: center;}#sk-container-id-3 label.sk-toggleable__label-arrow:before {content: \"▸\";float: left;margin-right: 0.25em;color: #696969;}#sk-container-id-3 label.sk-toggleable__label-arrow:hover:before {color: black;}#sk-container-id-3 div.sk-estimator:hover label.sk-toggleable__label-arrow:before {color: black;}#sk-container-id-3 div.sk-toggleable__content {max-height: 0;max-width: 0;overflow: hidden;text-align: left;background-color: #f0f8ff;}#sk-container-id-3 div.sk-toggleable__content pre {margin: 0.2em;color: black;border-radius: 0.25em;background-color: #f0f8ff;}#sk-container-id-3 input.sk-toggleable__control:checked~div.sk-toggleable__content {max-height: 200px;max-width: 100%;overflow: auto;}#sk-container-id-3 input.sk-toggleable__control:checked~label.sk-toggleable__label-arrow:before {content: \"▾\";}#sk-container-id-3 div.sk-estimator input.sk-toggleable__control:checked~label.sk-toggleable__label {background-color: #d4ebff;}#sk-container-id-3 div.sk-label input.sk-toggleable__control:checked~label.sk-toggleable__label {background-color: #d4ebff;}#sk-container-id-3 input.sk-hidden--visually {border: 0;clip: rect(1px 1px 1px 1px);clip: rect(1px, 1px, 1px, 1px);height: 1px;margin: -1px;overflow: hidden;padding: 0;position: absolute;width: 1px;}#sk-container-id-3 div.sk-estimator {font-family: monospace;background-color: #f0f8ff;border: 1px dotted black;border-radius: 0.25em;box-sizing: border-box;margin-bottom: 0.5em;}#sk-container-id-3 div.sk-estimator:hover {background-color: #d4ebff;}#sk-container-id-3 div.sk-parallel-item::after {content: \"\";width: 100%;border-bottom: 1px solid gray;flex-grow: 1;}#sk-container-id-3 div.sk-label:hover label.sk-toggleable__label {background-color: #d4ebff;}#sk-container-id-3 div.sk-serial::before {content: \"\";position: absolute;border-left: 1px solid gray;box-sizing: border-box;top: 0;bottom: 0;left: 50%;z-index: 0;}#sk-container-id-3 div.sk-serial {display: flex;flex-direction: column;align-items: center;background-color: white;padding-right: 0.2em;padding-left: 0.2em;position: relative;}#sk-container-id-3 div.sk-item {position: relative;z-index: 1;}#sk-container-id-3 div.sk-parallel {display: flex;align-items: stretch;justify-content: center;background-color: white;position: relative;}#sk-container-id-3 div.sk-item::before, #sk-container-id-3 div.sk-parallel-item::before {content: \"\";position: absolute;border-left: 1px solid gray;box-sizing: border-box;top: 0;bottom: 0;left: 50%;z-index: -1;}#sk-container-id-3 div.sk-parallel-item {display: flex;flex-direction: column;z-index: 1;position: relative;background-color: white;}#sk-container-id-3 div.sk-parallel-item:first-child::after {align-self: flex-end;width: 50%;}#sk-container-id-3 div.sk-parallel-item:last-child::after {align-self: flex-start;width: 50%;}#sk-container-id-3 div.sk-parallel-item:only-child::after {width: 0;}#sk-container-id-3 div.sk-dashed-wrapped {border: 1px dashed gray;margin: 0 0.4em 0.5em 0.4em;box-sizing: border-box;padding-bottom: 0.4em;background-color: white;}#sk-container-id-3 div.sk-label label {font-family: monospace;font-weight: bold;display: inline-block;line-height: 1.2em;}#sk-container-id-3 div.sk-label-container {text-align: center;}#sk-container-id-3 div.sk-container {/* jupyter's `normalize.less` sets `[hidden] { display: none; }` but bootstrap.min.css set `[hidden] { display: none !important; }` so we also need the `!important` here to be able to override the default hidden behavior on the sphinx rendered scikit-learn.org. See: https://github.com/scikit-learn/scikit-learn/issues/21755 */display: inline-block !important;position: relative;}#sk-container-id-3 div.sk-text-repr-fallback {display: none;}</style><div id=\"sk-container-id-3\" class=\"sk-top-container\"><div class=\"sk-text-repr-fallback\"><pre>SVC(probability=True)</pre><b>In a Jupyter environment, please rerun this cell to show the HTML representation or trust the notebook. <br />On GitHub, the HTML representation is unable to render, please try loading this page with nbviewer.org.</b></div><div class=\"sk-container\" hidden><div class=\"sk-item\"><div class=\"sk-estimator sk-toggleable\"><input class=\"sk-toggleable__control sk-hidden--visually\" id=\"sk-estimator-id-3\" type=\"checkbox\" checked><label for=\"sk-estimator-id-3\" class=\"sk-toggleable__label sk-toggleable__label-arrow\">SVC</label><div class=\"sk-toggleable__content\"><pre>SVC(probability=True)</pre></div></div></div></div></div>"
      ],
      "text/plain": [
       "SVC(probability=True)"
      ]
     },
     "execution_count": 80,
     "metadata": {},
     "output_type": "execute_result"
    }
   ],
   "source": [
    "from sklearn import svm\n",
    "scl = svm.SVC(probability=True)\n",
    "scl.fit(X,Y)"
   ]
  },
  {
   "cell_type": "code",
   "execution_count": 83,
   "metadata": {},
   "outputs": [
    {
     "data": {
      "text/plain": [
       "0.8967516424279859"
      ]
     },
     "execution_count": 83,
     "metadata": {},
     "output_type": "execute_result"
    }
   ],
   "source": [
    "scl.score(X_test, Y_test)"
   ]
  },
  {
   "cell_type": "code",
   "execution_count": 79,
   "metadata": {},
   "outputs": [
    {
     "name": "stdout",
     "output_type": "stream",
     "text": [
      "calculating pca\n"
     ]
    }
   ],
   "source": [
    "from sklearn import decomposition\n",
    "import matplotlib.pyplot as plt\n",
    "print(\"calculating pca\")\n",
    "pca = decomposition.PCA(n_components=2)\n",
    "pca.fit(X)\n",
    "z = pca.transform(X)"
   ]
  },
  {
   "cell_type": "code",
   "execution_count": 85,
   "metadata": {},
   "outputs": [],
   "source": [
    "import matplotlib.pyplot as plt"
   ]
  },
  {
   "cell_type": "code",
   "execution_count": 90,
   "metadata": {},
   "outputs": [],
   "source": [
    "dff = pd.DataFrame()\n",
    "dff[\"y\"] = Y\n",
    "dff[\"comp-1\"] = z[:,0]\n",
    "dff[\"comp-2\"] = z[:,1]\n",
    "\n",
    "sns.scatterplot(x=\"comp-1\", y=\"comp-2\", hue=dff.y.tolist(),\n",
    "                palette=sns.color_palette(\"hls\", 2),\n",
    "                data=dff).set(title=\"\") \n",
    "\n",
    "plt.show()\n",
    "# plt.savefig('test.png',dpi=600)"
   ]
  },
  {
   "cell_type": "code",
   "execution_count": 36,
   "metadata": {},
   "outputs": [],
   "source": [
    "from model import HifiDis"
   ]
  },
  {
   "cell_type": "code",
   "execution_count": 37,
   "metadata": {},
   "outputs": [],
   "source": [
    "audio_path = \"/dataa/Dataset/ASVspoof/LA/ASVspoof2019_LA_train/flac/LA_T_1272637.flac\"\n",
    "wav, sr = load_flac(audio_path)"
   ]
  },
  {
   "cell_type": "code",
   "execution_count": 38,
   "metadata": {},
   "outputs": [],
   "source": [
    "model = HifiDis(device=\"cuda:0\")"
   ]
  },
  {
   "cell_type": "code",
   "execution_count": null,
   "metadata": {},
   "outputs": [],
   "source": []
  },
  {
   "cell_type": "code",
   "execution_count": 39,
   "metadata": {},
   "outputs": [
    {
     "ename": "AttributeError",
     "evalue": "'numpy.ndarray' object has no attribute 'device'",
     "output_type": "error",
     "traceback": [
      "\u001b[0;31m---------------------------------------------------------------------------\u001b[0m",
      "\u001b[0;31mAttributeError\u001b[0m                            Traceback (most recent call last)",
      "\u001b[1;32m/dataa/phucdt/vocodetect/ML.ipynb Cell 30\u001b[0m in \u001b[0;36m<cell line: 1>\u001b[0;34m()\u001b[0m\n\u001b[0;32m----> <a href='vscode-notebook-cell://ssh-remote%2B203.253.17.18/dataa/phucdt/vocodetect/ML.ipynb#X42sdnNjb2RlLXJlbW90ZQ%3D%3D?line=0'>1</a>\u001b[0m feat \u001b[39m=\u001b[39m model\u001b[39m.\u001b[39;49mextract_feat(wav)\n",
      "File \u001b[0;32m/dataa/phucdt/vocodetect/model.py:630\u001b[0m, in \u001b[0;36mHifiDis.extract_feat\u001b[0;34m(self, input_data)\u001b[0m\n\u001b[1;32m    627\u001b[0m \u001b[39mdef\u001b[39;00m \u001b[39mextract_feat\u001b[39m(\u001b[39mself\u001b[39m, input_data):\n\u001b[1;32m    628\u001b[0m     \n\u001b[1;32m    629\u001b[0m     \u001b[39m# put the model to GPU if it not there\u001b[39;00m\n\u001b[0;32m--> 630\u001b[0m     \u001b[39mif\u001b[39;00m \u001b[39mnext\u001b[39m(\u001b[39mself\u001b[39m\u001b[39m.\u001b[39mmpd\u001b[39m.\u001b[39mparameters())\u001b[39m.\u001b[39mdevice \u001b[39m!=\u001b[39m input_data\u001b[39m.\u001b[39;49mdevice \\\n\u001b[1;32m    631\u001b[0m        \u001b[39mor\u001b[39;00m \u001b[39mnext\u001b[39m(\u001b[39mself\u001b[39m\u001b[39m.\u001b[39mmpd\u001b[39m.\u001b[39mparameters())\u001b[39m.\u001b[39mdtype \u001b[39m!=\u001b[39m input_data\u001b[39m.\u001b[39mdtype:\n\u001b[1;32m    632\u001b[0m         \u001b[39mself\u001b[39m\u001b[39m.\u001b[39mmpd\u001b[39m.\u001b[39mto(input_data\u001b[39m.\u001b[39mdevice, dtype\u001b[39m=\u001b[39minput_data\u001b[39m.\u001b[39mdtype)\n\u001b[1;32m    633\u001b[0m         \u001b[39mself\u001b[39m\u001b[39m.\u001b[39mmpd\u001b[39m.\u001b[39mtrain()\n",
      "\u001b[0;31mAttributeError\u001b[0m: 'numpy.ndarray' object has no attribute 'device'"
     ]
    }
   ],
   "source": [
    "feat = model.extract_feat(wav)"
   ]
  },
  {
   "cell_type": "code",
   "execution_count": null,
   "metadata": {},
   "outputs": [],
   "source": []
  }
 ],
 "metadata": {
  "kernelspec": {
   "display_name": "base",
   "language": "python",
   "name": "python3"
  },
  "language_info": {
   "codemirror_mode": {
    "name": "ipython",
    "version": 3
   },
   "file_extension": ".py",
   "mimetype": "text/x-python",
   "name": "python",
   "nbconvert_exporter": "python",
   "pygments_lexer": "ipython3",
   "version": "3.9.12"
  },
  "orig_nbformat": 4,
  "vscode": {
   "interpreter": {
    "hash": "c0d08ef314ad85bd60518ed1578ae854e8ff2ccabe9db8c38e04d81a2135347a"
   }
  }
 },
 "nbformat": 4,
 "nbformat_minor": 2
}
